{
 "cells": [
  {
   "cell_type": "code",
   "execution_count": null,
   "metadata": {
    "collapsed": true
   },
   "outputs": [],
   "source": [
    "import pandas as pd\n",
    "import numpy as np\n",
    "import matplotlib.pyplot as plt\n",
    "%matplotlib inline"
   ]
  },
  {
   "cell_type": "markdown",
   "metadata": {},
   "source": [
    "<h1>Amazon Sports Products Reviews Analysis</h1>"
   ]
  },
  {
   "cell_type": "markdown",
   "metadata": {},
   "source": [
    "<h2> Data Overview</h2>\n",
    "<br>\n",
    "<p>This dataset is a dense subset that contains products reviews and some metadata from Amazon sports and outdoors department, including 296,337 million reviews spanning from 2002 to July 2014. Because it is a toyset, such that each of the remaining users and items have 5 reviews each, the sports activity trendency analysis may not totally correct. However, the sentiment analysis should work fine in real world.</p>  "
   ]
  },
  {
   "cell_type": "code",
   "execution_count": 2,
   "metadata": {
    "collapsed": true
   },
   "outputs": [],
   "source": [
    "data = pd.read_json(\"Sports_and_Outdoors_5.json\", lines=True)"
   ]
  },
  {
   "cell_type": "code",
   "execution_count": 3,
   "metadata": {},
   "outputs": [
    {
     "data": {
      "text/html": [
       "<div>\n",
       "<style>\n",
       "    .dataframe thead tr:only-child th {\n",
       "        text-align: right;\n",
       "    }\n",
       "\n",
       "    .dataframe thead th {\n",
       "        text-align: left;\n",
       "    }\n",
       "\n",
       "    .dataframe tbody tr th {\n",
       "        vertical-align: top;\n",
       "    }\n",
       "</style>\n",
       "<table border=\"1\" class=\"dataframe\">\n",
       "  <thead>\n",
       "    <tr style=\"text-align: right;\">\n",
       "      <th></th>\n",
       "      <th>asin</th>\n",
       "      <th>helpful</th>\n",
       "      <th>overall</th>\n",
       "      <th>reviewText</th>\n",
       "      <th>reviewTime</th>\n",
       "      <th>reviewerID</th>\n",
       "      <th>reviewerName</th>\n",
       "      <th>summary</th>\n",
       "      <th>unixReviewTime</th>\n",
       "    </tr>\n",
       "  </thead>\n",
       "  <tbody>\n",
       "    <tr>\n",
       "      <th>0</th>\n",
       "      <td>1881509818</td>\n",
       "      <td>[0, 0]</td>\n",
       "      <td>5</td>\n",
       "      <td>This came in on time and I am veru happy with it, I haved used it already and it makes taking out the pins in my glock 32 very easy</td>\n",
       "      <td>01 26, 2014</td>\n",
       "      <td>AIXZKN4ACSKI</td>\n",
       "      <td>David Briner</td>\n",
       "      <td>Woks very good</td>\n",
       "      <td>1390694400</td>\n",
       "    </tr>\n",
       "  </tbody>\n",
       "</table>\n",
       "</div>"
      ],
      "text/plain": [
       "         asin helpful  overall  \\\n",
       "0  1881509818  [0, 0]  5         \n",
       "\n",
       "                                                                                                                            reviewText  \\\n",
       "0  This came in on time and I am veru happy with it, I haved used it already and it makes taking out the pins in my glock 32 very easy   \n",
       "\n",
       "    reviewTime    reviewerID  reviewerName         summary  unixReviewTime  \n",
       "0  01 26, 2014  AIXZKN4ACSKI  David Briner  Woks very good  1390694400      "
      ]
     },
     "execution_count": 3,
     "metadata": {},
     "output_type": "execute_result"
    }
   ],
   "source": [
    "pd.set_option('display.max_colwidth', -1)\n",
    "data.head(1)"
   ]
  },
  {
   "cell_type": "code",
   "execution_count": 4,
   "metadata": {
    "collapsed": true
   },
   "outputs": [],
   "source": [
    "del data[\"unixReviewTime\"]\n",
    "del data[\"reviewerName\"]\n",
    "del data[\"helpful\"]\n",
    "del data[\"reviewerID\"]"
   ]
  },
  {
   "cell_type": "code",
   "execution_count": 5,
   "metadata": {},
   "outputs": [
    {
     "data": {
      "text/html": [
       "<div>\n",
       "<style>\n",
       "    .dataframe thead tr:only-child th {\n",
       "        text-align: right;\n",
       "    }\n",
       "\n",
       "    .dataframe thead th {\n",
       "        text-align: left;\n",
       "    }\n",
       "\n",
       "    .dataframe tbody tr th {\n",
       "        vertical-align: top;\n",
       "    }\n",
       "</style>\n",
       "<table border=\"1\" class=\"dataframe\">\n",
       "  <thead>\n",
       "    <tr style=\"text-align: right;\">\n",
       "      <th></th>\n",
       "      <th>asin</th>\n",
       "      <th>overall</th>\n",
       "      <th>reviewText</th>\n",
       "      <th>reviewTime</th>\n",
       "      <th>summary</th>\n",
       "    </tr>\n",
       "  </thead>\n",
       "  <tbody>\n",
       "    <tr>\n",
       "      <th>0</th>\n",
       "      <td>1881509818</td>\n",
       "      <td>5</td>\n",
       "      <td>This came in on time and I am veru happy with it, I haved used it already and it makes taking out the pins in my glock 32 very easy</td>\n",
       "      <td>01 26, 2014</td>\n",
       "      <td>Woks very good</td>\n",
       "    </tr>\n",
       "  </tbody>\n",
       "</table>\n",
       "</div>"
      ],
      "text/plain": [
       "         asin  overall  \\\n",
       "0  1881509818  5         \n",
       "\n",
       "                                                                                                                            reviewText  \\\n",
       "0  This came in on time and I am veru happy with it, I haved used it already and it makes taking out the pins in my glock 32 very easy   \n",
       "\n",
       "    reviewTime         summary  \n",
       "0  01 26, 2014  Woks very good  "
      ]
     },
     "execution_count": 5,
     "metadata": {},
     "output_type": "execute_result"
    }
   ],
   "source": [
    "data.head(1)"
   ]
  },
  {
   "cell_type": "code",
   "execution_count": 6,
   "metadata": {},
   "outputs": [
    {
     "data": {
      "text/plain": [
       "(296337, 5)"
      ]
     },
     "execution_count": 6,
     "metadata": {},
     "output_type": "execute_result"
    }
   ],
   "source": [
    "# check how many reviews in data set\n",
    "data.shape"
   ]
  },
  {
   "cell_type": "code",
   "execution_count": 7,
   "metadata": {},
   "outputs": [
    {
     "data": {
      "text/plain": [
       "False"
      ]
     },
     "execution_count": 7,
     "metadata": {},
     "output_type": "execute_result"
    }
   ],
   "source": [
    "# check if there is nan value in dataframe\n",
    "data.isnull().values.any()"
   ]
  },
  {
   "cell_type": "code",
   "execution_count": 8,
   "metadata": {},
   "outputs": [
    {
     "name": "stdout",
     "output_type": "stream",
     "text": [
      "asin          object\n",
      "overall       int64 \n",
      "reviewText    object\n",
      "reviewTime    object\n",
      "summary       object\n",
      "dtype: object\n"
     ]
    }
   ],
   "source": [
    "# check datatype of each column\n",
    "print data.dtypes"
   ]
  },
  {
   "cell_type": "markdown",
   "metadata": {},
   "source": [
    "<h2>Basic Exploration</h2>\n",
    "<br>\n",
    "<h3>1. Number of Reviewed Products</h3>\n",
    "<p>First, let's see how many unique products in this data set."
   ]
  },
  {
   "cell_type": "code",
   "execution_count": 9,
   "metadata": {},
   "outputs": [
    {
     "name": "stdout",
     "output_type": "stream",
     "text": [
      "(18357L,)\n"
     ]
    }
   ],
   "source": [
    "# the number of unique products in dataset\n",
    "print data.asin.unique().shape"
   ]
  },
  {
   "cell_type": "markdown",
   "metadata": {},
   "source": [
    "<p>These 296,337 reviews covered 18,357 products. On average, each product has 16 reviews.</p>"
   ]
  },
  {
   "cell_type": "markdown",
   "metadata": {},
   "source": [
    "<h3>2. Rating Distribution</h3>\n",
    "<br>\n",
    "<p>Next, let's see how the user ratings are distributed among the reviews.</p>"
   ]
  },
  {
   "cell_type": "code",
   "execution_count": 10,
   "metadata": {},
   "outputs": [
    {
     "name": "stdout",
     "output_type": "stream",
     "text": [
      "<class 'pandas.core.series.Series'>\n"
     ]
    },
    {
     "data": {
      "text/plain": [
       "overall\n",
       "1    9045  \n",
       "2    10204 \n",
       "3    24071 \n",
       "4    64809 \n",
       "5    188208\n",
       "dtype: int64"
      ]
     },
     "execution_count": 10,
     "metadata": {},
     "output_type": "execute_result"
    }
   ],
   "source": [
    "rating_distribution = data.groupby([\"overall\"]).size()\n",
    "print type(rating_distribution)\n",
    "rating_distribution"
   ]
  },
  {
   "cell_type": "code",
   "execution_count": 11,
   "metadata": {},
   "outputs": [
    {
     "name": "stdout",
     "output_type": "stream",
     "text": [
      "5    63.51\n",
      "4    21.87\n",
      "3    8.12 \n",
      "2    3.44 \n",
      "1    3.05 \n",
      "Name: overall, dtype: float64\n"
     ]
    }
   ],
   "source": [
    "rating_percentage = data[\"overall\"].value_counts(normalize=True).apply(lambda x: np.around((x * 100), 2))\n",
    "# set_option just can modify the display of data frame, not data itself\n",
    "# pd.options.display.float_format = '{:,.2f}%'.format\n",
    "print rating_percentage"
   ]
  },
  {
   "cell_type": "code",
   "execution_count": 12,
   "metadata": {},
   "outputs": [
    {
     "data": {
      "text/plain": [
       "5    63.51%\n",
       "4    21.87%\n",
       "3    8.12% \n",
       "2    3.44% \n",
       "1    3.05% \n",
       "Name: overall, dtype: object"
      ]
     },
     "execution_count": 12,
     "metadata": {},
     "output_type": "execute_result"
    }
   ],
   "source": [
    "rating_percentage = rating_percentage.astype(str).apply(lambda x: x + \"%\")\n",
    "rating_percentage"
   ]
  },
  {
   "cell_type": "code",
   "execution_count": 13,
   "metadata": {},
   "outputs": [
    {
     "data": {
      "image/png": "[encoded data removed]",
      "text/plain": [
       "<matplotlib.figure.Figure at 0x2632390>"
      ]
     },
     "metadata": {},
     "output_type": "display_data"
    }
   ],
   "source": [
    "import matplotlib\n",
    "with plt.style.context(('ggplot')):\n",
    "    #matplotlib.style.use('ggplot')\n",
    "\n",
    "    fig = plt.figure(figsize=(10, 6))\n",
    "    ax = fig.add_subplot(111)\n",
    "\n",
    "    rating_distribution.plot.bar(alpha=0.7, color=\"g\")\n",
    "    plt.grid(True)\n",
    "    plt.ylim((0, 220000))\n",
    "\n",
    "    box_style = {'facecolor':'red', 'alpha':0.5, 'boxstyle':'round, pad=0.3'}\n",
    "    ax.text(3.82, 200000, rating_percentage.iloc[0], bbox=box_style, fontsize=12)\n",
    "    ax.text(2.82, 76000, rating_percentage.iloc[1], bbox=box_style, fontsize=12)\n",
    "    ax.text(1.85, 35000, rating_percentage.iloc[2], bbox=box_style, fontsize=12)\n",
    "    ax.text(0.85, 22000, rating_percentage.iloc[3], bbox=box_style, fontsize=12)\n",
    "    ax.text(-0.15, 21000, rating_percentage.iloc[4], bbox=box_style, fontsize=12)\n",
    "\n",
    "    plt.xticks(rotation=0)\n",
    "    plt.title(\"Distribution of Rating\", fontsize=14, fontweight=\"bold\")\n",
    "    plt.xlabel(\"Overall Rating\")\n",
    "    plt.ylabel(\"# of Reviews\")"
   ]
  },
  {
   "cell_type": "markdown",
   "metadata": {},
   "source": [
    "<p>More than $60\\%$ of the reviews gave a 5-star rating. 4-star accounted for $21.87\\%$. There are very few 1-star to 3-star relatively. We can conclude that most online reviewers like to give positive feedbacks on the merchandise they bought.</p> "
   ]
  },
  {
   "cell_type": "markdown",
   "metadata": {},
   "source": [
    "<h3>3. Number of Reviews Changes Over Years</h3>\n",
    "<br>\n",
    "<p>We can expect the number of reviews should grow year by year with the popularity of online shopping. But how fast this increase happened? I try to find it from a line chart.</p>"
   ]
  },
  {
   "cell_type": "code",
   "execution_count": 14,
   "metadata": {},
   "outputs": [
    {
     "data": {
      "text/html": [
       "<div>\n",
       "<style>\n",
       "    .dataframe thead tr:only-child th {\n",
       "        text-align: right;\n",
       "    }\n",
       "\n",
       "    .dataframe thead th {\n",
       "        text-align: left;\n",
       "    }\n",
       "\n",
       "    .dataframe tbody tr th {\n",
       "        vertical-align: top;\n",
       "    }\n",
       "</style>\n",
       "<table border=\"1\" class=\"dataframe\">\n",
       "  <thead>\n",
       "    <tr style=\"text-align: right;\">\n",
       "      <th></th>\n",
       "      <th>asin</th>\n",
       "      <th>overall</th>\n",
       "      <th>reviewText</th>\n",
       "      <th>summary</th>\n",
       "      <th>reviewYear</th>\n",
       "    </tr>\n",
       "  </thead>\n",
       "  <tbody>\n",
       "    <tr>\n",
       "      <th>0</th>\n",
       "      <td>1881509818</td>\n",
       "      <td>5</td>\n",
       "      <td>This came in on time and I am veru happy with it, I haved used it already and it makes taking out the pins in my glock 32 very easy</td>\n",
       "      <td>Woks very good</td>\n",
       "      <td>2014</td>\n",
       "    </tr>\n",
       "    <tr>\n",
       "      <th>1</th>\n",
       "      <td>1881509818</td>\n",
       "      <td>5</td>\n",
       "      <td>I had a factory Glock tool that I was using for my Glock 26, 27, and 17.  I've since lost it and had needed another.  Since I've used Ghost products prior, and know that they are reliable, I had decided to order this one.  Sure enough, this is just as good as a factory tool.</td>\n",
       "      <td>Works as well as the factory tool</td>\n",
       "      <td>2012</td>\n",
       "    </tr>\n",
       "    <tr>\n",
       "      <th>2</th>\n",
       "      <td>1881509818</td>\n",
       "      <td>4</td>\n",
       "      <td>If you don't have a 3/32 punch or would like to have one in your Glock bag, this is okay.  The butt end of it is handy for pushing pins back in place.  If you already have a 3/32 punch and don't need another, don't both with this one.</td>\n",
       "      <td>It's a punch, that's all.</td>\n",
       "      <td>2012</td>\n",
       "    </tr>\n",
       "  </tbody>\n",
       "</table>\n",
       "</div>"
      ],
      "text/plain": [
       "         asin  overall  \\\n",
       "0  1881509818  5         \n",
       "1  1881509818  5         \n",
       "2  1881509818  4         \n",
       "\n",
       "                                                                                                                                                                                                                                                                            reviewText  \\\n",
       "0  This came in on time and I am veru happy with it, I haved used it already and it makes taking out the pins in my glock 32 very easy                                                                                                                                                   \n",
       "1  I had a factory Glock tool that I was using for my Glock 26, 27, and 17.  I've since lost it and had needed another.  Since I've used Ghost products prior, and know that they are reliable, I had decided to order this one.  Sure enough, this is just as good as a factory tool.   \n",
       "2  If you don't have a 3/32 punch or would like to have one in your Glock bag, this is okay.  The butt end of it is handy for pushing pins back in place.  If you already have a 3/32 punch and don't need another, don't both with this one.                                            \n",
       "\n",
       "                             summary  reviewYear  \n",
       "0  Woks very good                     2014        \n",
       "1  Works as well as the factory tool  2012        \n",
       "2  It's a punch, that's all.          2012        "
      ]
     },
     "execution_count": 14,
     "metadata": {},
     "output_type": "execute_result"
    }
   ],
   "source": [
    "# extract year from time tag\n",
    "data[\"reviewYear\"] = data[\"reviewTime\"].str.split(\",\").apply(lambda x: x[1])\n",
    "del data[\"reviewTime\"]\n",
    "data[\"reviewYear\"] = data[\"reviewYear\"].astype(int)\n",
    "data.head(3)"
   ]
  },
  {
   "cell_type": "code",
   "execution_count": 15,
   "metadata": {},
   "outputs": [
    {
     "data": {
      "text/plain": [
       "2002    4     \n",
       "2003    14    \n",
       "2004    13    \n",
       "2005    85    \n",
       "2006    242   \n",
       "2007    788   \n",
       "2008    1547  \n",
       "2009    3236  \n",
       "2010    8171  \n",
       "2011    21943 \n",
       "2012    50366 \n",
       "2013    133157\n",
       "2014    76771 \n",
       "Name: reviewYear, dtype: int64"
      ]
     },
     "execution_count": 15,
     "metadata": {},
     "output_type": "execute_result"
    }
   ],
   "source": [
    "count_by_year = data[\"reviewYear\"].value_counts().sort_index()\n",
    "count_by_year"
   ]
  },
  {
   "cell_type": "code",
   "execution_count": 16,
   "metadata": {},
   "outputs": [
    {
     "data": {
      "image/png": "[encoded data removed]",
      "text/plain": [
       "<matplotlib.figure.Figure at 0x1184d2e8>"
      ]
     },
     "metadata": {},
     "output_type": "display_data"
    }
   ],
   "source": [
    "with plt.style.context(('bmh')):\n",
    "    fig = plt.figure(figsize=(10, 6))\n",
    "    ax = fig.add_subplot(111)\n",
    "\n",
    "    plt.ylim(-5000, 140000)\n",
    "    plt.title(\"Review Counts by Year\", fontsize=14, fontweight=\"bold\")\n",
    "    plt.ylabel(\"Number of Reviews\")\n",
    "\n",
    "    count_by_year.plot(marker=\"o\", markersize=6, markerfacecolor=\"yellow\", lw=4)"
   ]
  },
  {
   "cell_type": "markdown",
   "metadata": {},
   "source": [
    "<p>There is a sagging tail on the line because the data in 2014 is just collected till July. We ignore the number of 2014 as it not complete. We can determine the increase speed by checking the steepness of line. From 2002 to 2008, there is almost no change on review numbers. But since 2009, the interval between yellow markers is getting steeper year by year. It indicates the yearly increase rate is always bigger than last year. Especially the interval between 2012 and 2013, the slope of line is more than twice of 2011-2012 interval.</p>"
   ]
  },
  {
   "cell_type": "markdown",
   "metadata": {},
   "source": [
    "<h2>Most Reviewed Product</h2>\n",
    "<br>\n",
    "<p>Assuming the products with more reviews have larger market share. We can retrieve the top 10 popular products by collecting top 10 reviewed prodects.</p>"
   ]
  },
  {
   "cell_type": "code",
   "execution_count": 17,
   "metadata": {},
   "outputs": [
    {
     "data": {
      "text/plain": [
       "B001HBHNHE    1042\n",
       "B001T7QJ9O    763 \n",
       "B000S5ODN2    647 \n",
       "B0010O748Q    513 \n",
       "B0000C50K3    427 \n",
       "B002ZYRV2E    401 \n",
       "B002OKWHVO    398 \n",
       "B000GCRWCG    393 \n",
       "B001HBHNHY    372 \n",
       "B0035L35A8    359 \n",
       "Name: asin, dtype: int64"
      ]
     },
     "execution_count": 17,
     "metadata": {},
     "output_type": "execute_result"
    }
   ],
   "source": [
    "number_of_reviews = data[\"asin\"].value_counts()\n",
    "number_of_reviews.head(10)"
   ]
  },
  {
   "cell_type": "markdown",
   "metadata": {},
   "source": [
    "<h2>Sports Activity Tendency</h2>\n",
    "<br>"
   ]
  },
  {
   "cell_type": "code",
   "execution_count": 18,
   "metadata": {
    "scrolled": true
   },
   "outputs": [
    {
     "data": {
      "text/plain": [
       "asin          object\n",
       "overall       int64 \n",
       "reviewText    object\n",
       "summary       object\n",
       "reviewYear    int32 \n",
       "dtype: object"
      ]
     },
     "execution_count": 18,
     "metadata": {},
     "output_type": "execute_result"
    }
   ],
   "source": [
    "data.dtypes"
   ]
  },
  {
   "cell_type": "markdown",
   "metadata": {},
   "source": [
    "<p>I set 2010 as the turnning point. By exploring the popular products in different time periods, we can speculate what the prevalent sports are on that time.</p>"
   ]
  },
  {
   "cell_type": "code",
   "execution_count": 19,
   "metadata": {
    "collapsed": true
   },
   "outputs": [],
   "source": [
    "data_filter_before_include_2010 = data[\"reviewYear\"] <= 2010"
   ]
  },
  {
   "cell_type": "code",
   "execution_count": 20,
   "metadata": {},
   "outputs": [
    {
     "name": "stdout",
     "output_type": "stream",
     "text": [
      "(14100, 5)\n"
     ]
    }
   ],
   "source": [
    "data_before_include_2010 = data[data_filter_before_include_2010]\n",
    "print data_before_include_2010.shape\n",
    "# data_before_include_2010.head()"
   ]
  },
  {
   "cell_type": "code",
   "execution_count": 21,
   "metadata": {},
   "outputs": [
    {
     "name": "stdout",
     "output_type": "stream",
     "text": [
      "(282237, 5)\n"
     ]
    }
   ],
   "source": [
    "data_filter_after_2010 = data[\"reviewYear\"] > 2010\n",
    "data_after_2010 = data[data_filter_after_2010]\n",
    "print data_after_2010.shape\n",
    "# data_after_2010.head()"
   ]
  },
  {
   "cell_type": "code",
   "execution_count": 22,
   "metadata": {
    "collapsed": true
   },
   "outputs": [],
   "source": [
    "number_of_reviews_before_include_2010 = data_before_include_2010[\"asin\"].value_counts()\n",
    "# number_of_reviews_before_include_2010.head(14)"
   ]
  },
  {
   "cell_type": "markdown",
   "metadata": {},
   "source": [
    "<p>This data set does not provide product description and title. I did not find the data source including ASIN and title for Amazon either. So I searched ASIN from Amazon website. There are some blanks maybe due to uncompleted database or the product has been out of market. I collect the first 10 most reviewed products with title as sports tendency indicator.</p>"
   ]
  },
  {
   "cell_type": "code",
   "execution_count": 23,
   "metadata": {
    "collapsed": true
   },
   "outputs": [],
   "source": [
    "title_before_2010 = [\"Wireless N300 Mbps Extreme-N Gigabit Router\", \n",
    "                    \"Klean Kanteen Stainless Steel Water Bottle\", \n",
    "                    \"Omron HJA-301 Pace and Distance Tracker\", \n",
    "                    \"\", \n",
    "                    \"Bicycle Blinky Light\", \n",
    "                    \"Perfect Pushup - Original\", \n",
    "                    \"\", \n",
    "                    \"\", \n",
    "                    \"Polar Bottle Insulated Water Bottle\", \n",
    "                    \"Liner Lock Folding Knife\",\n",
    "                    \"Road Morph G Mini Pump\", \n",
    "                    \"Rothco 550lb. Type III Nylon Paracord\", \n",
    "                    \"\",\n",
    "                    \"P90X DVD Workout - Base Kit\"]"
   ]
  },
  {
   "cell_type": "code",
   "execution_count": 24,
   "metadata": {
    "collapsed": true
   },
   "outputs": [],
   "source": [
    "data_agg_before_2010 = data_before_include_2010.groupby(\"asin\", as_index=False).agg({\"overall\": [\"count\", \"mean\"]})\n",
    "# ravel returns a contigious flattened array\n",
    "data_agg_before_2010.columns = [\"_\".join(x) for x in data_agg_before_2010.columns.ravel()]\n",
    "data_agg_before_2010.rename(columns={\"asin_\": \"asin\"}, inplace=True)\n",
    "# data_agg_before_2010.head()"
   ]
  },
  {
   "cell_type": "code",
   "execution_count": 25,
   "metadata": {},
   "outputs": [
    {
     "data": {
      "text/html": [
       "<div>\n",
       "<style>\n",
       "    .dataframe thead tr:only-child th {\n",
       "        text-align: right;\n",
       "    }\n",
       "\n",
       "    .dataframe thead th {\n",
       "        text-align: left;\n",
       "    }\n",
       "\n",
       "    .dataframe tbody tr th {\n",
       "        vertical-align: top;\n",
       "    }\n",
       "</style>\n",
       "<table border=\"1\" class=\"dataframe\">\n",
       "  <thead>\n",
       "    <tr style=\"text-align: right;\">\n",
       "      <th></th>\n",
       "      <th>asin</th>\n",
       "      <th>overall_count</th>\n",
       "      <th>overall_mean</th>\n",
       "      <th>title</th>\n",
       "    </tr>\n",
       "  </thead>\n",
       "  <tbody>\n",
       "    <tr>\n",
       "      <th>1735</th>\n",
       "      <td>B000LIFB7S</td>\n",
       "      <td>59</td>\n",
       "      <td>4.288136</td>\n",
       "      <td>Wireless N300 Mbps Extreme-N Gigabit Router</td>\n",
       "    </tr>\n",
       "    <tr>\n",
       "      <th>1362</th>\n",
       "      <td>B000FN7UWS</td>\n",
       "      <td>56</td>\n",
       "      <td>4.178571</td>\n",
       "      <td>Klean Kanteen Stainless Steel Water Bottle</td>\n",
       "    </tr>\n",
       "    <tr>\n",
       "      <th>4929</th>\n",
       "      <td>B003IHWKSC</td>\n",
       "      <td>53</td>\n",
       "      <td>4.094340</td>\n",
       "      <td>Omron HJA-301 Pace and Distance Tracker</td>\n",
       "    </tr>\n",
       "    <tr>\n",
       "      <th>1677</th>\n",
       "      <td>B000KBEH1W</td>\n",
       "      <td>44</td>\n",
       "      <td>4.545455</td>\n",
       "      <td>Bicycle Blinky Light</td>\n",
       "    </tr>\n",
       "    <tr>\n",
       "      <th>1685</th>\n",
       "      <td>B000KDM3BG</td>\n",
       "      <td>43</td>\n",
       "      <td>4.604651</td>\n",
       "      <td>Perfect Pushup - Original</td>\n",
       "    </tr>\n",
       "    <tr>\n",
       "      <th>764</th>\n",
       "      <td>B000AO5L8W</td>\n",
       "      <td>36</td>\n",
       "      <td>4.277778</td>\n",
       "      <td>Polar Bottle Insulated Water Bottle</td>\n",
       "    </tr>\n",
       "    <tr>\n",
       "      <th>2310</th>\n",
       "      <td>B000UUV1EY</td>\n",
       "      <td>33</td>\n",
       "      <td>4.181818</td>\n",
       "      <td>Liner Lock Folding Knife</td>\n",
       "    </tr>\n",
       "    <tr>\n",
       "      <th>1293</th>\n",
       "      <td>B000FI6YOS</td>\n",
       "      <td>32</td>\n",
       "      <td>4.312500</td>\n",
       "      <td>Road Morph G Mini Pump</td>\n",
       "    </tr>\n",
       "    <tr>\n",
       "      <th>2215</th>\n",
       "      <td>B000S5ODN2</td>\n",
       "      <td>32</td>\n",
       "      <td>4.625000</td>\n",
       "      <td>Rothco 550lb. Type III Nylon Paracord</td>\n",
       "    </tr>\n",
       "    <tr>\n",
       "      <th>1224</th>\n",
       "      <td>B000FA1B9O</td>\n",
       "      <td>32</td>\n",
       "      <td>4.906250</td>\n",
       "      <td>P90X DVD Workout - Base Kit</td>\n",
       "    </tr>\n",
       "  </tbody>\n",
       "</table>\n",
       "</div>"
      ],
      "text/plain": [
       "            asin  overall_count  overall_mean  \\\n",
       "1735  B000LIFB7S  59             4.288136       \n",
       "1362  B000FN7UWS  56             4.178571       \n",
       "4929  B003IHWKSC  53             4.094340       \n",
       "1677  B000KBEH1W  44             4.545455       \n",
       "1685  B000KDM3BG  43             4.604651       \n",
       "764   B000AO5L8W  36             4.277778       \n",
       "2310  B000UUV1EY  33             4.181818       \n",
       "1293  B000FI6YOS  32             4.312500       \n",
       "2215  B000S5ODN2  32             4.625000       \n",
       "1224  B000FA1B9O  32             4.906250       \n",
       "\n",
       "                                            title  \n",
       "1735  Wireless N300 Mbps Extreme-N Gigabit Router  \n",
       "1362  Klean Kanteen Stainless Steel Water Bottle   \n",
       "4929  Omron HJA-301 Pace and Distance Tracker      \n",
       "1677  Bicycle Blinky Light                         \n",
       "1685  Perfect Pushup - Original                    \n",
       "764   Polar Bottle Insulated Water Bottle          \n",
       "2310  Liner Lock Folding Knife                     \n",
       "1293  Road Morph G Mini Pump                       \n",
       "2215  Rothco 550lb. Type III Nylon Paracord        \n",
       "1224  P90X DVD Workout - Base Kit                  "
      ]
     },
     "execution_count": 25,
     "metadata": {},
     "output_type": "execute_result"
    }
   ],
   "source": [
    "top10_before_2010 = data_agg_before_2010.sort_values(\"overall_count\", ascending=False).head(14)\n",
    "top10_before_2010 = top10_before_2010.assign(title=pd.Series(title_before_2010).values)\n",
    "top10_before_2010['title'].replace('', np.nan, inplace=True)\n",
    "top10_before_2010.dropna(subset=['title'], inplace=True)\n",
    "# pd.set_option('display.max_colwidth', -1)\n",
    "top10_before_2010"
   ]
  },
  {
   "cell_type": "code",
   "execution_count": 26,
   "metadata": {},
   "outputs": [
    {
     "data": {
      "text/html": [
       "<div>\n",
       "<style>\n",
       "    .dataframe thead tr:only-child th {\n",
       "        text-align: right;\n",
       "    }\n",
       "\n",
       "    .dataframe thead th {\n",
       "        text-align: left;\n",
       "    }\n",
       "\n",
       "    .dataframe tbody tr th {\n",
       "        vertical-align: top;\n",
       "    }\n",
       "</style>\n",
       "<table border=\"1\" class=\"dataframe\">\n",
       "  <thead>\n",
       "    <tr style=\"text-align: right;\">\n",
       "      <th></th>\n",
       "      <th>title</th>\n",
       "      <th>overall_count</th>\n",
       "    </tr>\n",
       "  </thead>\n",
       "  <tbody>\n",
       "    <tr>\n",
       "      <th>1735</th>\n",
       "      <td>Wireless N300 Mbps Extreme-N Gigabit Router</td>\n",
       "      <td>59</td>\n",
       "    </tr>\n",
       "    <tr>\n",
       "      <th>1362</th>\n",
       "      <td>Klean Kanteen Stainless Steel Water Bottle</td>\n",
       "      <td>56</td>\n",
       "    </tr>\n",
       "    <tr>\n",
       "      <th>4929</th>\n",
       "      <td>Omron HJA-301 Pace and Distance Tracker</td>\n",
       "      <td>53</td>\n",
       "    </tr>\n",
       "    <tr>\n",
       "      <th>1677</th>\n",
       "      <td>Bicycle Blinky Light</td>\n",
       "      <td>44</td>\n",
       "    </tr>\n",
       "    <tr>\n",
       "      <th>1685</th>\n",
       "      <td>Perfect Pushup - Original</td>\n",
       "      <td>43</td>\n",
       "    </tr>\n",
       "    <tr>\n",
       "      <th>764</th>\n",
       "      <td>Polar Bottle Insulated Water Bottle</td>\n",
       "      <td>36</td>\n",
       "    </tr>\n",
       "    <tr>\n",
       "      <th>2310</th>\n",
       "      <td>Liner Lock Folding Knife</td>\n",
       "      <td>33</td>\n",
       "    </tr>\n",
       "    <tr>\n",
       "      <th>1293</th>\n",
       "      <td>Road Morph G Mini Pump</td>\n",
       "      <td>32</td>\n",
       "    </tr>\n",
       "    <tr>\n",
       "      <th>2215</th>\n",
       "      <td>Rothco 550lb. Type III Nylon Paracord</td>\n",
       "      <td>32</td>\n",
       "    </tr>\n",
       "    <tr>\n",
       "      <th>1224</th>\n",
       "      <td>P90X DVD Workout - Base Kit</td>\n",
       "      <td>32</td>\n",
       "    </tr>\n",
       "  </tbody>\n",
       "</table>\n",
       "</div>"
      ],
      "text/plain": [
       "                                            title  overall_count\n",
       "1735  Wireless N300 Mbps Extreme-N Gigabit Router  59           \n",
       "1362  Klean Kanteen Stainless Steel Water Bottle   56           \n",
       "4929  Omron HJA-301 Pace and Distance Tracker      53           \n",
       "1677  Bicycle Blinky Light                         44           \n",
       "1685  Perfect Pushup - Original                    43           \n",
       "764   Polar Bottle Insulated Water Bottle          36           \n",
       "2310  Liner Lock Folding Knife                     33           \n",
       "1293  Road Morph G Mini Pump                       32           \n",
       "2215  Rothco 550lb. Type III Nylon Paracord        32           \n",
       "1224  P90X DVD Workout - Base Kit                  32           "
      ]
     },
     "execution_count": 26,
     "metadata": {},
     "output_type": "execute_result"
    }
   ],
   "source": [
    "top10_before_2010[[\"title\", \"overall_count\"]]"
   ]
  },
  {
   "cell_type": "markdown",
   "metadata": {},
   "source": [
    "<p>I have no idea why wireless router is the top popular product in sports department. But by checking other items, we can find people prefer tranditional sports before 2010. They took a water bottle when riding a bicycle, or wore a tracker for a workout, or bought pushup to take execise at home. All these activities focus on maintainng good health.</p>"
   ]
  },
  {
   "cell_type": "code",
   "execution_count": 27,
   "metadata": {
    "collapsed": true
   },
   "outputs": [],
   "source": [
    "number_of_reviews_after_2010 = data_after_2010[\"asin\"].value_counts()\n",
    "# number_of_reviews_after_2010.head(13)"
   ]
  },
  {
   "cell_type": "code",
   "execution_count": 28,
   "metadata": {
    "collapsed": true
   },
   "outputs": [],
   "source": [
    "title_after_2010 = [\"Maglula UpLULA Universal Pistol Magazine Loader\", \n",
    "                   \"Howard Leight Impact Sport OD Electric Earmuff\", \n",
    "                   \"Rothco 550lb. Type III Nylon Paracord\", \n",
    "                   \"All-Weather Emergency 2-IN-1 Fire Starter & Magnesium Fuel Bar\", \n",
    "                   \"Big Rock Sports Bore Snake Rifle Cleaner\", \n",
    "                   \"\", \n",
    "                   \"SET Tactical Weapon Mount\",\n",
    "                   \"\", \n",
    "                   \"\", \n",
    "                   \"Sports Ultralight Portable Outdoor Backpacking Camping Stoves\", \n",
    "                   \"UTG Tactical OP Bipod, Rubber Feet, Center Height 8.3\", \n",
    "                   \"Advanced Optics Front/Rear Rapid Transition BUIS Backup Iron Sight\", \n",
    "                   \"Fixed Blade Outdoor Knife with Carbon Steel Blade\"]"
   ]
  },
  {
   "cell_type": "code",
   "execution_count": 29,
   "metadata": {
    "collapsed": true
   },
   "outputs": [],
   "source": [
    "data_agg_after_2010 = data_after_2010.groupby(\"asin\", as_index=False).agg({\"overall\": [\"count\", \"mean\"]})\n",
    "data_agg_after_2010.columns = [\"_\".join(x) for x in data_agg_after_2010.columns.ravel()]\n",
    "data_agg_after_2010.rename(columns={\"asin_\": \"asin\"}, inplace=True)\n",
    "# data_agg_after_2010.head()"
   ]
  },
  {
   "cell_type": "code",
   "execution_count": 30,
   "metadata": {},
   "outputs": [
    {
     "data": {
      "text/html": [
       "<div>\n",
       "<style>\n",
       "    .dataframe thead tr:only-child th {\n",
       "        text-align: right;\n",
       "    }\n",
       "\n",
       "    .dataframe thead th {\n",
       "        text-align: left;\n",
       "    }\n",
       "\n",
       "    .dataframe tbody tr th {\n",
       "        vertical-align: top;\n",
       "    }\n",
       "</style>\n",
       "<table border=\"1\" class=\"dataframe\">\n",
       "  <thead>\n",
       "    <tr style=\"text-align: right;\">\n",
       "      <th></th>\n",
       "      <th>asin</th>\n",
       "      <th>overall_count</th>\n",
       "      <th>overall_mean</th>\n",
       "      <th>title</th>\n",
       "    </tr>\n",
       "  </thead>\n",
       "  <tbody>\n",
       "    <tr>\n",
       "      <th>7045</th>\n",
       "      <td>B001HBHNHE</td>\n",
       "      <td>1023</td>\n",
       "      <td>4.877810</td>\n",
       "      <td>Maglula UpLULA Universal Pistol Magazine Loader</td>\n",
       "    </tr>\n",
       "    <tr>\n",
       "      <th>7892</th>\n",
       "      <td>B001T7QJ9O</td>\n",
       "      <td>735</td>\n",
       "      <td>4.459864</td>\n",
       "      <td>Howard Leight Impact Sport OD Electric Earmuff</td>\n",
       "    </tr>\n",
       "    <tr>\n",
       "      <th>4025</th>\n",
       "      <td>B000S5ODN2</td>\n",
       "      <td>615</td>\n",
       "      <td>4.648780</td>\n",
       "      <td>Rothco 550lb. Type III Nylon Paracord</td>\n",
       "    </tr>\n",
       "    <tr>\n",
       "      <th>4742</th>\n",
       "      <td>B0010O748Q</td>\n",
       "      <td>497</td>\n",
       "      <td>4.173038</td>\n",
       "      <td>All-Weather Emergency 2-IN-1 Fire Starter &amp; Magnesium Fuel Bar</td>\n",
       "    </tr>\n",
       "    <tr>\n",
       "      <th>245</th>\n",
       "      <td>B0000C50K3</td>\n",
       "      <td>423</td>\n",
       "      <td>4.751773</td>\n",
       "      <td>Big Rock Sports Bore Snake Rifle Cleaner</td>\n",
       "    </tr>\n",
       "    <tr>\n",
       "      <th>9672</th>\n",
       "      <td>B002ZYRV2E</td>\n",
       "      <td>395</td>\n",
       "      <td>4.607595</td>\n",
       "      <td>SET Tactical Weapon Mount</td>\n",
       "    </tr>\n",
       "    <tr>\n",
       "      <th>13034</th>\n",
       "      <td>B004U8CP88</td>\n",
       "      <td>357</td>\n",
       "      <td>4.610644</td>\n",
       "      <td>Sports Ultralight Portable Outdoor Backpacking Camping Stoves</td>\n",
       "    </tr>\n",
       "    <tr>\n",
       "      <th>9994</th>\n",
       "      <td>B0035L35A8</td>\n",
       "      <td>354</td>\n",
       "      <td>4.446328</td>\n",
       "      <td>UTG Tactical OP Bipod, Rubber Feet, Center Height 8.3</td>\n",
       "    </tr>\n",
       "    <tr>\n",
       "      <th>13017</th>\n",
       "      <td>B004TNWD40</td>\n",
       "      <td>344</td>\n",
       "      <td>4.784884</td>\n",
       "      <td>Advanced Optics Front/Rear Rapid Transition BUIS Backup Iron Sight</td>\n",
       "    </tr>\n",
       "    <tr>\n",
       "      <th>15012</th>\n",
       "      <td>B006X9DLQM</td>\n",
       "      <td>344</td>\n",
       "      <td>4.482558</td>\n",
       "      <td>Fixed Blade Outdoor Knife with Carbon Steel Blade</td>\n",
       "    </tr>\n",
       "  </tbody>\n",
       "</table>\n",
       "</div>"
      ],
      "text/plain": [
       "             asin  overall_count  overall_mean  \\\n",
       "7045   B001HBHNHE  1023           4.877810       \n",
       "7892   B001T7QJ9O  735            4.459864       \n",
       "4025   B000S5ODN2  615            4.648780       \n",
       "4742   B0010O748Q  497            4.173038       \n",
       "245    B0000C50K3  423            4.751773       \n",
       "9672   B002ZYRV2E  395            4.607595       \n",
       "13034  B004U8CP88  357            4.610644       \n",
       "9994   B0035L35A8  354            4.446328       \n",
       "13017  B004TNWD40  344            4.784884       \n",
       "15012  B006X9DLQM  344            4.482558       \n",
       "\n",
       "                                                                    title  \n",
       "7045   Maglula UpLULA Universal Pistol Magazine Loader                     \n",
       "7892   Howard Leight Impact Sport OD Electric Earmuff                      \n",
       "4025   Rothco 550lb. Type III Nylon Paracord                               \n",
       "4742   All-Weather Emergency 2-IN-1 Fire Starter & Magnesium Fuel Bar      \n",
       "245    Big Rock Sports Bore Snake Rifle Cleaner                            \n",
       "9672   SET Tactical Weapon Mount                                           \n",
       "13034  Sports Ultralight Portable Outdoor Backpacking Camping Stoves       \n",
       "9994   UTG Tactical OP Bipod, Rubber Feet, Center Height 8.3               \n",
       "13017  Advanced Optics Front/Rear Rapid Transition BUIS Backup Iron Sight  \n",
       "15012  Fixed Blade Outdoor Knife with Carbon Steel Blade                   "
      ]
     },
     "execution_count": 30,
     "metadata": {},
     "output_type": "execute_result"
    }
   ],
   "source": [
    "top10_after_2010 = data_agg_after_2010.sort_values(\"overall_count\", ascending=False).head(13)\n",
    "top10_after_2010 = top10_after_2010.assign(title=pd.Series(title_after_2010).values)\n",
    "top10_after_2010[\"title\"].replace(\"\", np.nan, inplace=True)\n",
    "top10_after_2010.dropna(subset=[\"title\"], inplace=True)\n",
    "top10_after_2010"
   ]
  },
  {
   "cell_type": "code",
   "execution_count": 31,
   "metadata": {},
   "outputs": [
    {
     "data": {
      "text/html": [
       "<div>\n",
       "<style>\n",
       "    .dataframe thead tr:only-child th {\n",
       "        text-align: right;\n",
       "    }\n",
       "\n",
       "    .dataframe thead th {\n",
       "        text-align: left;\n",
       "    }\n",
       "\n",
       "    .dataframe tbody tr th {\n",
       "        vertical-align: top;\n",
       "    }\n",
       "</style>\n",
       "<table border=\"1\" class=\"dataframe\">\n",
       "  <thead>\n",
       "    <tr style=\"text-align: right;\">\n",
       "      <th></th>\n",
       "      <th>title</th>\n",
       "      <th>overall_count</th>\n",
       "    </tr>\n",
       "  </thead>\n",
       "  <tbody>\n",
       "    <tr>\n",
       "      <th>7045</th>\n",
       "      <td>Maglula UpLULA Universal Pistol Magazine Loader</td>\n",
       "      <td>1023</td>\n",
       "    </tr>\n",
       "    <tr>\n",
       "      <th>7892</th>\n",
       "      <td>Howard Leight Impact Sport OD Electric Earmuff</td>\n",
       "      <td>735</td>\n",
       "    </tr>\n",
       "    <tr>\n",
       "      <th>4025</th>\n",
       "      <td>Rothco 550lb. Type III Nylon Paracord</td>\n",
       "      <td>615</td>\n",
       "    </tr>\n",
       "    <tr>\n",
       "      <th>4742</th>\n",
       "      <td>All-Weather Emergency 2-IN-1 Fire Starter &amp; Magnesium Fuel Bar</td>\n",
       "      <td>497</td>\n",
       "    </tr>\n",
       "    <tr>\n",
       "      <th>245</th>\n",
       "      <td>Big Rock Sports Bore Snake Rifle Cleaner</td>\n",
       "      <td>423</td>\n",
       "    </tr>\n",
       "    <tr>\n",
       "      <th>9672</th>\n",
       "      <td>SET Tactical Weapon Mount</td>\n",
       "      <td>395</td>\n",
       "    </tr>\n",
       "    <tr>\n",
       "      <th>13034</th>\n",
       "      <td>Sports Ultralight Portable Outdoor Backpacking Camping Stoves</td>\n",
       "      <td>357</td>\n",
       "    </tr>\n",
       "    <tr>\n",
       "      <th>9994</th>\n",
       "      <td>UTG Tactical OP Bipod, Rubber Feet, Center Height 8.3</td>\n",
       "      <td>354</td>\n",
       "    </tr>\n",
       "    <tr>\n",
       "      <th>13017</th>\n",
       "      <td>Advanced Optics Front/Rear Rapid Transition BUIS Backup Iron Sight</td>\n",
       "      <td>344</td>\n",
       "    </tr>\n",
       "    <tr>\n",
       "      <th>15012</th>\n",
       "      <td>Fixed Blade Outdoor Knife with Carbon Steel Blade</td>\n",
       "      <td>344</td>\n",
       "    </tr>\n",
       "  </tbody>\n",
       "</table>\n",
       "</div>"
      ],
      "text/plain": [
       "                                                                    title  \\\n",
       "7045   Maglula UpLULA Universal Pistol Magazine Loader                      \n",
       "7892   Howard Leight Impact Sport OD Electric Earmuff                       \n",
       "4025   Rothco 550lb. Type III Nylon Paracord                                \n",
       "4742   All-Weather Emergency 2-IN-1 Fire Starter & Magnesium Fuel Bar       \n",
       "245    Big Rock Sports Bore Snake Rifle Cleaner                             \n",
       "9672   SET Tactical Weapon Mount                                            \n",
       "13034  Sports Ultralight Portable Outdoor Backpacking Camping Stoves        \n",
       "9994   UTG Tactical OP Bipod, Rubber Feet, Center Height 8.3                \n",
       "13017  Advanced Optics Front/Rear Rapid Transition BUIS Backup Iron Sight   \n",
       "15012  Fixed Blade Outdoor Knife with Carbon Steel Blade                    \n",
       "\n",
       "       overall_count  \n",
       "7045   1023           \n",
       "7892   735            \n",
       "4025   615            \n",
       "4742   497            \n",
       "245    423            \n",
       "9672   395            \n",
       "13034  357            \n",
       "9994   354            \n",
       "13017  344            \n",
       "15012  344            "
      ]
     },
     "execution_count": 31,
     "metadata": {},
     "output_type": "execute_result"
    }
   ],
   "source": [
    "top10_after_2010[[\"title\", \"overall_count\"]]"
   ]
  },
  {
   "cell_type": "markdown",
   "metadata": {},
   "source": [
    "<p>People are increasingly interested outdoor sports since 2011. Camping stoves and fire startar are common outdoor gears. It is worth mentioning that 5 out of 10 products are weapon-related. Maybe stimulation and challenge are the characteristics of sports in recent years.</p>"
   ]
  },
  {
   "cell_type": "markdown",
   "metadata": {},
   "source": [
    "<h2>Sentiment Analysis</h2>\n",
    "<p>In general we do not express our sentiment by star. So I devide the reviews into two groups: $1$ as thumb-up(4-star and 5-star), $-1$ as thumb-down(1-star and 2-star) and $0$ as neutral(3-star). I will apply naive Bayes and SVM(support vector machine) on review text and summary seperatly.</p>\n",
    "<br>\n",
    "<h3>1. Clean Text</h3>"
   ]
  },
  {
   "cell_type": "code",
   "execution_count": 32,
   "metadata": {},
   "outputs": [
    {
     "data": {
      "text/html": [
       "<div>\n",
       "<style>\n",
       "    .dataframe thead tr:only-child th {\n",
       "        text-align: right;\n",
       "    }\n",
       "\n",
       "    .dataframe thead th {\n",
       "        text-align: left;\n",
       "    }\n",
       "\n",
       "    .dataframe tbody tr th {\n",
       "        vertical-align: top;\n",
       "    }\n",
       "</style>\n",
       "<table border=\"1\" class=\"dataframe\">\n",
       "  <thead>\n",
       "    <tr style=\"text-align: right;\">\n",
       "      <th></th>\n",
       "      <th>asin</th>\n",
       "      <th>overall</th>\n",
       "      <th>reviewText</th>\n",
       "      <th>summary</th>\n",
       "      <th>reviewYear</th>\n",
       "    </tr>\n",
       "  </thead>\n",
       "  <tbody>\n",
       "    <tr>\n",
       "      <th>0</th>\n",
       "      <td>1881509818</td>\n",
       "      <td>5</td>\n",
       "      <td>This came in on time and I am veru happy with it, I haved used it already and it makes taking out the pins in my glock 32 very easy</td>\n",
       "      <td>Woks very good</td>\n",
       "      <td>2014</td>\n",
       "    </tr>\n",
       "    <tr>\n",
       "      <th>1</th>\n",
       "      <td>1881509818</td>\n",
       "      <td>5</td>\n",
       "      <td>I had a factory Glock tool that I was using for my Glock 26, 27, and 17.  I've since lost it and had needed another.  Since I've used Ghost products prior, and know that they are reliable, I had decided to order this one.  Sure enough, this is just as good as a factory tool.</td>\n",
       "      <td>Works as well as the factory tool</td>\n",
       "      <td>2012</td>\n",
       "    </tr>\n",
       "  </tbody>\n",
       "</table>\n",
       "</div>"
      ],
      "text/plain": [
       "         asin  overall  \\\n",
       "0  1881509818  5         \n",
       "1  1881509818  5         \n",
       "\n",
       "                                                                                                                                                                                                                                                                            reviewText  \\\n",
       "0  This came in on time and I am veru happy with it, I haved used it already and it makes taking out the pins in my glock 32 very easy                                                                                                                                                   \n",
       "1  I had a factory Glock tool that I was using for my Glock 26, 27, and 17.  I've since lost it and had needed another.  Since I've used Ghost products prior, and know that they are reliable, I had decided to order this one.  Sure enough, this is just as good as a factory tool.   \n",
       "\n",
       "                             summary  reviewYear  \n",
       "0  Woks very good                     2014        \n",
       "1  Works as well as the factory tool  2012        "
      ]
     },
     "execution_count": 32,
     "metadata": {},
     "output_type": "execute_result"
    }
   ],
   "source": [
    "data.head(2)"
   ]
  },
  {
   "cell_type": "code",
   "execution_count": 33,
   "metadata": {},
   "outputs": [
    {
     "data": {
      "text/html": [
       "<div>\n",
       "<style>\n",
       "    .dataframe thead tr:only-child th {\n",
       "        text-align: right;\n",
       "    }\n",
       "\n",
       "    .dataframe thead th {\n",
       "        text-align: left;\n",
       "    }\n",
       "\n",
       "    .dataframe tbody tr th {\n",
       "        vertical-align: top;\n",
       "    }\n",
       "</style>\n",
       "<table border=\"1\" class=\"dataframe\">\n",
       "  <thead>\n",
       "    <tr style=\"text-align: right;\">\n",
       "      <th></th>\n",
       "      <th>overall</th>\n",
       "      <th>reviewText</th>\n",
       "      <th>summary</th>\n",
       "    </tr>\n",
       "  </thead>\n",
       "  <tbody>\n",
       "    <tr>\n",
       "      <th>0</th>\n",
       "      <td>5</td>\n",
       "      <td>This came in on time and I am veru happy with it, I haved used it already and it makes taking out the pins in my glock 32 very easy</td>\n",
       "      <td>Woks very good</td>\n",
       "    </tr>\n",
       "    <tr>\n",
       "      <th>1</th>\n",
       "      <td>5</td>\n",
       "      <td>I had a factory Glock tool that I was using for my Glock 26, 27, and 17.  I've since lost it and had needed another.  Since I've used Ghost products prior, and know that they are reliable, I had decided to order this one.  Sure enough, this is just as good as a factory tool.</td>\n",
       "      <td>Works as well as the factory tool</td>\n",
       "    </tr>\n",
       "  </tbody>\n",
       "</table>\n",
       "</div>"
      ],
      "text/plain": [
       "   overall  \\\n",
       "0  5         \n",
       "1  5         \n",
       "\n",
       "                                                                                                                                                                                                                                                                            reviewText  \\\n",
       "0  This came in on time and I am veru happy with it, I haved used it already and it makes taking out the pins in my glock 32 very easy                                                                                                                                                   \n",
       "1  I had a factory Glock tool that I was using for my Glock 26, 27, and 17.  I've since lost it and had needed another.  Since I've used Ghost products prior, and know that they are reliable, I had decided to order this one.  Sure enough, this is just as good as a factory tool.   \n",
       "\n",
       "                             summary  \n",
       "0  Woks very good                     \n",
       "1  Works as well as the factory tool  "
      ]
     },
     "execution_count": 33,
     "metadata": {},
     "output_type": "execute_result"
    }
   ],
   "source": [
    "review_data = data[[\"overall\", \"reviewText\", \"summary\"]]\n",
    "review_data.head(2)"
   ]
  },
  {
   "cell_type": "code",
   "execution_count": 34,
   "metadata": {
    "scrolled": true
   },
   "outputs": [
    {
     "name": "stderr",
     "output_type": "stream",
     "text": [
      "C:\\Users\\Qi Yang\\Anaconda\\lib\\site-packages\\ipykernel_launcher.py:13: SettingWithCopyWarning: \n",
      "A value is trying to be set on a copy of a slice from a DataFrame.\n",
      "Try using .loc[row_indexer,col_indexer] = value instead\n",
      "\n",
      "See the caveats in the documentation: http://pandas.pydata.org/pandas-docs/stable/indexing.html#indexing-view-versus-copy\n",
      "  del sys.path[0]\n"
     ]
    }
   ],
   "source": [
    "from nltk.corpus import stopwords\n",
    "import re\n",
    "\n",
    "stops = set(stopwords.words(\"english\"))\n",
    "\n",
    "def clean_words_v1(raw_review):\n",
    "    \n",
    "    lower_letters_only = re.sub(\"[^a-zA-Z]\", \" \", raw_review).lower().split()\n",
    "    meaningful_words = [w for w in lower_letters_only if not w in stops]\n",
    "    # join the words back into one string for later analysis\n",
    "    return \" \".join(meaningful_words)\n",
    "\n",
    "review_data[\"clean_review_v1\"] = review_data[\"reviewText\"].map(clean_words_v1)\n",
    "review_data[\"clean_summary_v1\"] = review_data[\"summary\"].map(clean_words_v1)"
   ]
  },
  {
   "cell_type": "code",
   "execution_count": 35,
   "metadata": {},
   "outputs": [
    {
     "data": {
      "text/html": [
       "<div>\n",
       "<style>\n",
       "    .dataframe thead tr:only-child th {\n",
       "        text-align: right;\n",
       "    }\n",
       "\n",
       "    .dataframe thead th {\n",
       "        text-align: left;\n",
       "    }\n",
       "\n",
       "    .dataframe tbody tr th {\n",
       "        vertical-align: top;\n",
       "    }\n",
       "</style>\n",
       "<table border=\"1\" class=\"dataframe\">\n",
       "  <thead>\n",
       "    <tr style=\"text-align: right;\">\n",
       "      <th></th>\n",
       "      <th>overall</th>\n",
       "      <th>reviewText</th>\n",
       "      <th>summary</th>\n",
       "      <th>clean_review_v1</th>\n",
       "      <th>clean_summary_v1</th>\n",
       "    </tr>\n",
       "  </thead>\n",
       "  <tbody>\n",
       "    <tr>\n",
       "      <th>0</th>\n",
       "      <td>5</td>\n",
       "      <td>This came in on time and I am veru happy with it, I haved used it already and it makes taking out the pins in my glock 32 very easy</td>\n",
       "      <td>Woks very good</td>\n",
       "      <td>came time veru happy haved used already makes taking pins glock easy</td>\n",
       "      <td>woks good</td>\n",
       "    </tr>\n",
       "  </tbody>\n",
       "</table>\n",
       "</div>"
      ],
      "text/plain": [
       "   overall  \\\n",
       "0  5         \n",
       "\n",
       "                                                                                                                            reviewText  \\\n",
       "0  This came in on time and I am veru happy with it, I haved used it already and it makes taking out the pins in my glock 32 very easy   \n",
       "\n",
       "          summary  \\\n",
       "0  Woks very good   \n",
       "\n",
       "                                                        clean_review_v1  \\\n",
       "0  came time veru happy haved used already makes taking pins glock easy   \n",
       "\n",
       "  clean_summary_v1  \n",
       "0  woks good        "
      ]
     },
     "execution_count": 35,
     "metadata": {},
     "output_type": "execute_result"
    }
   ],
   "source": [
    "review_data.head(1)"
   ]
  },
  {
   "cell_type": "code",
   "execution_count": 36,
   "metadata": {},
   "outputs": [
    {
     "data": {
      "text/plain": [
       "one        114907\n",
       "great      102257\n",
       "use        96282 \n",
       "like       94927 \n",
       "well       94530 \n",
       "good       93356 \n",
       "would      85677 \n",
       "get        72470 \n",
       "knife      63705 \n",
       "little     53132 \n",
       "really     49579 \n",
       "also       49513 \n",
       "easy       47885 \n",
       "much       47461 \n",
       "time       46635 \n",
       "price      46305 \n",
       "used       46286 \n",
       "fit        46045 \n",
       "product    43594 \n",
       "made       42420 \n",
       "dtype: int64"
      ]
     },
     "execution_count": 36,
     "metadata": {},
     "output_type": "execute_result"
    }
   ],
   "source": [
    "top20_word_in_review = pd.Series(\" \".join(review_data.clean_review_v1).split()).value_counts()[:20]\n",
    "top20_word_in_review"
   ]
  },
  {
   "cell_type": "code",
   "execution_count": 37,
   "metadata": {},
   "outputs": [
    {
     "data": {
      "text/plain": [
       "great        52169\n",
       "good         30251\n",
       "nice         14161\n",
       "works        13535\n",
       "product      10535\n",
       "price        10110\n",
       "knife        9028 \n",
       "perfect      8374 \n",
       "quality      8059 \n",
       "well         8030 \n",
       "best         6924 \n",
       "excellent    6892 \n",
       "love         5941 \n",
       "awesome      5559 \n",
       "little       4851 \n",
       "fit          4783 \n",
       "like         4382 \n",
       "light        4327 \n",
       "bag          4161 \n",
       "easy         4073 \n",
       "dtype: int64"
      ]
     },
     "execution_count": 37,
     "metadata": {},
     "output_type": "execute_result"
    }
   ],
   "source": [
    "top20_word_in_summary = pd.Series(\" \".join(review_data.clean_summary_v1).split()).value_counts()[:20]\n",
    "top20_word_in_summary"
   ]
  },
  {
   "cell_type": "code",
   "execution_count": 38,
   "metadata": {
    "collapsed": true
   },
   "outputs": [],
   "source": [
    "#import nltk\n",
    "#nltk.download()"
   ]
  },
  {
   "cell_type": "markdown",
   "metadata": {},
   "source": [
    "<p>Just from intuition, we usually express our sentiments with adjectives, adverbs and verbs. So we can just leave these words as features for later learning process. NLTK comes readily packaged with all sorts of parsers and tags.</p>"
   ]
  },
  {
   "cell_type": "code",
   "execution_count": 39,
   "metadata": {
    "collapsed": true
   },
   "outputs": [],
   "source": [
    "import nltk\n",
    "\n",
    "stops = set(stopwords.words(\"english\"))\n",
    "adj_adv_set = [\"JJ\", \"JJR\", \"JJS\", \"RB\", \"RBR\", \"RBS\", \"VB\", \"VBD\", \"VBG\", \"VBN\", \"VBP\", \"VBZ\"]\n",
    "\"\"\"\n",
    "This function convert a raw review to a string composed with meaningful words by removing punctuations, numbers \n",
    "changing all capital letter to lower case, and removing all stop words.\n",
    "\"\"\"\n",
    "def clean_words_v2(raw_review):\n",
    "    \n",
    "    lower_letters_only = re.sub(\"[^a-zA-Z]\", \" \", raw_review).lower()\n",
    "    tag_token = nltk.pos_tag(nltk.word_tokenize(lower_letters_only))\n",
    "    meaningful_words = [w[0] for w in tag_token if not w[0] in stops and w[1] in adj_adv_set]\n",
    "    return \" \".join(meaningful_words)\n",
    "\n",
    "\"\"\"\n",
    "This function convert overall rating to sentiment expression.\n",
    "\"\"\"\n",
    "sentiment = {1: -1, 2: -1, 3: 0, 4: 1, 5: 1}\n",
    "def define_sentiment(star):\n",
    "    return sentiment[star]"
   ]
  },
  {
   "cell_type": "code",
   "execution_count": 40,
   "metadata": {},
   "outputs": [
    {
     "name": "stdout",
     "output_type": "stream",
     "text": [
      "This came in on time and I am veru happy with it, I haved used it already and it makes taking out the pins in my glock 32 very easy\n",
      "[(u'This', 'DT'), (u'came', 'VBD'), (u'in', 'IN'), (u'on', 'IN'), (u'time', 'NN'), (u'and', 'CC'), (u'I', 'PRP'), (u'am', 'VBP'), (u'veru', 'JJ'), (u'happy', 'JJ'), (u'with', 'IN'), (u'it', 'PRP'), (u',', ','), (u'I', 'PRP'), (u'haved', 'VBD'), (u'used', 'VBD'), (u'it', 'PRP'), (u'already', 'RB'), (u'and', 'CC'), (u'it', 'PRP'), (u'makes', 'VBZ'), (u'taking', 'VBG'), (u'out', 'RP'), (u'the', 'DT'), (u'pins', 'NNS'), (u'in', 'IN'), (u'my', 'PRP$'), (u'glock', 'NN'), (u'32', 'CD'), (u'very', 'RB'), (u'easy', 'JJ')]\n",
      "came veru happy haved used already makes taking easy\n"
     ]
    }
   ],
   "source": [
    "# test a single row \n",
    "one_review = review_data.iloc[0][\"reviewText\"]  # to retrieve a cell: df.iloc[idx][col_name]\n",
    "one_summary = review_data.iloc[0][\"summary\"]\n",
    "print one_review\n",
    "print nltk.pos_tag(nltk.word_tokenize(one_review))\n",
    "print clean_words_v2(one_review)\n",
    "#print one_summary\n",
    "#print nltk.pos_tag(nltk.word_tokenize(one_summary))\n",
    "#print clean_words(one_summary)"
   ]
  },
  {
   "cell_type": "code",
   "execution_count": 41,
   "metadata": {},
   "outputs": [
    {
     "name": "stdout",
     "output_type": "stream",
     "text": [
      "Wall time: 41min 53s\n",
      "Wall time: 6min 11s\n",
      "Wall time: 160 ms\n"
     ]
    }
   ],
   "source": [
    "# review_data[\"cleanReview\"] = review_data[\"reviewText\"].map(clean_words)\n",
    "\n",
    "# the second method can used on nested dataframe, Furthermore this order of operations can be significantly faster, \n",
    "# and allows one to index both axes if so desired.\n",
    "%time review_data[\"cleanReview_v2\"] = review_data[\"reviewText\"].map(clean_words_v2)\n",
    "%time review_data[\"cleanSummary_v2\"] = review_data[\"summary\"].map(clean_words_v2)\n",
    "%time review_data[\"sentiment\"] = review_data[\"overall\"].map(define_sentiment)"
   ]
  },
  {
   "cell_type": "code",
   "execution_count": 42,
   "metadata": {},
   "outputs": [
    {
     "data": {
      "text/html": [
       "<div>\n",
       "<style>\n",
       "    .dataframe thead tr:only-child th {\n",
       "        text-align: right;\n",
       "    }\n",
       "\n",
       "    .dataframe thead th {\n",
       "        text-align: left;\n",
       "    }\n",
       "\n",
       "    .dataframe tbody tr th {\n",
       "        vertical-align: top;\n",
       "    }\n",
       "</style>\n",
       "<table border=\"1\" class=\"dataframe\">\n",
       "  <thead>\n",
       "    <tr style=\"text-align: right;\">\n",
       "      <th></th>\n",
       "      <th>overall</th>\n",
       "      <th>reviewText</th>\n",
       "      <th>summary</th>\n",
       "      <th>clean_review_v1</th>\n",
       "      <th>clean_summary_v1</th>\n",
       "      <th>cleanReview_v2</th>\n",
       "      <th>cleanSummary_v2</th>\n",
       "      <th>sentiment</th>\n",
       "    </tr>\n",
       "  </thead>\n",
       "  <tbody>\n",
       "    <tr>\n",
       "      <th>0</th>\n",
       "      <td>5</td>\n",
       "      <td>This came in on time and I am veru happy with it, I haved used it already and it makes taking out the pins in my glock 32 very easy</td>\n",
       "      <td>Woks very good</td>\n",
       "      <td>came time veru happy haved used already makes taking pins glock easy</td>\n",
       "      <td>woks good</td>\n",
       "      <td>came veru happy haved used already makes taking easy</td>\n",
       "      <td>good</td>\n",
       "      <td>1</td>\n",
       "    </tr>\n",
       "  </tbody>\n",
       "</table>\n",
       "</div>"
      ],
      "text/plain": [
       "   overall  \\\n",
       "0  5         \n",
       "\n",
       "                                                                                                                            reviewText  \\\n",
       "0  This came in on time and I am veru happy with it, I haved used it already and it makes taking out the pins in my glock 32 very easy   \n",
       "\n",
       "          summary  \\\n",
       "0  Woks very good   \n",
       "\n",
       "                                                        clean_review_v1  \\\n",
       "0  came time veru happy haved used already makes taking pins glock easy   \n",
       "\n",
       "  clean_summary_v1                                        cleanReview_v2  \\\n",
       "0  woks good        came veru happy haved used already makes taking easy   \n",
       "\n",
       "  cleanSummary_v2  sentiment  \n",
       "0  good            1          "
      ]
     },
     "execution_count": 42,
     "metadata": {},
     "output_type": "execute_result"
    }
   ],
   "source": [
    "review_data.head(1)"
   ]
  },
  {
   "cell_type": "code",
   "execution_count": 43,
   "metadata": {},
   "outputs": [
    {
     "data": {
      "text/plain": [
       "great     102257\n",
       "good      92650 \n",
       "well      91785 \n",
       "get       70252 \n",
       "use       69230 \n",
       "little    53120 \n",
       "really    49579 \n",
       "also      49513 \n",
       "much      47452 \n",
       "used      46286 \n",
       "easy      45629 \n",
       "made      42199 \n",
       "nice      40597 \n",
       "bought    39249 \n",
       "even      37429 \n",
       "better    37109 \n",
       "small     35715 \n",
       "works     34404 \n",
       "need      33459 \n",
       "put       33130 \n",
       "dtype: int64"
      ]
     },
     "execution_count": 43,
     "metadata": {},
     "output_type": "execute_result"
    }
   ],
   "source": [
    "top20_specialwords_in_review = pd.Series(\" \".join(review_data.cleanReview_v2).split()).value_counts()[:20]\n",
    "top20_specialwords_in_review"
   ]
  },
  {
   "cell_type": "code",
   "execution_count": 44,
   "metadata": {},
   "outputs": [
    {
     "data": {
      "text/plain": [
       "great        52169\n",
       "good         30112\n",
       "nice         13754\n",
       "well         7873 \n",
       "best         6923 \n",
       "excellent    5199 \n",
       "love         4934 \n",
       "little       4851 \n",
       "perfect      4000 \n",
       "better       3896 \n",
       "easy         3729 \n",
       "awesome      3572 \n",
       "works        3531 \n",
       "made         3353 \n",
       "small        3024 \n",
       "solid        2911 \n",
       "get          2614 \n",
       "really       2401 \n",
       "bad          2366 \n",
       "use          2363 \n",
       "dtype: int64"
      ]
     },
     "execution_count": 44,
     "metadata": {},
     "output_type": "execute_result"
    }
   ],
   "source": [
    "top20_specialwords_in_summary = pd.Series(' '.join(review_data.cleanSummary_v2).split()).value_counts()[:20]\n",
    "top20_specialwords_in_summary"
   ]
  },
  {
   "cell_type": "code",
   "execution_count": 45,
   "metadata": {
    "collapsed": true
   },
   "outputs": [],
   "source": [
    "top20_words = top20_specialwords_in_summary.index.tolist()"
   ]
  },
  {
   "cell_type": "markdown",
   "metadata": {},
   "source": [
    "<p>SentiWordNet provides a file that assign most of English words a positive and negative value. Some words are given more than one pair of values under different scenarios. For simplifying my task, I just take the average of all possible positive scores and nagitive scores as corresponding sentiment value. I know it over simplifying the whole process but bear with me.:)</p>"
   ]
  },
  {
   "cell_type": "code",
   "execution_count": 92,
   "metadata": {
    "collapsed": true
   },
   "outputs": [],
   "source": [
    "import csv, collections\n",
    "\n",
    "def load_sent_word_net():\n",
    "    \n",
    "    sent_scores = collections.defaultdict(list)\n",
    "    \n",
    "    with open(\"SentiWordNet_3.0.0_20130122.txt\", \"r\") as csvfile:\n",
    "        reader = csv.reader(csvfile, delimiter='\\t', quotechar='\"')\n",
    "        for line in reader:\n",
    "            if line[0].startswith(\"#\"):\n",
    "                continue\n",
    "            if len(line)==1:\n",
    "                continue\n",
    "                \n",
    "            POS,ID,PosScore,NegScore,SynsetTerms,Gloss = line\n",
    "            if len(POS)==0 or len(ID)==0:\n",
    "                continue\n",
    "            #print POS,PosScore,NegScore,SynsetTerms\n",
    "            for term in SynsetTerms.split(\" \"):\n",
    "                # drop number at the end of every term\n",
    "                term = term.split(\"#\")[0]\n",
    "                term = term.replace(\"-\", \" \").replace(\"_\", \" \")\n",
    "                key = \"%s/%s\"%(POS,term.split(\"#\")[0])\n",
    "                sent_scores[key].append((float(PosScore), float(NegScore)))\n",
    "                \n",
    "    for key, value in sent_scores.iteritems():\n",
    "        sent_scores[key] = np.mean(value, axis=0)\n",
    "        \n",
    "    return sent_scores\n",
    "\n",
    "sent_scores = load_sent_word_net()"
   ]
  },
  {
   "cell_type": "code",
   "execution_count": 90,
   "metadata": {},
   "outputs": [
    {
     "data": {
      "text/plain": [
       "array([ 0.09375,  0.03125])"
      ]
     },
     "execution_count": 90,
     "metadata": {},
     "output_type": "execute_result"
    }
   ],
   "source": [
    "sent_scores[\"n/works\"]"
   ]
  },
  {
   "cell_type": "code",
   "execution_count": 93,
   "metadata": {},
   "outputs": [
    {
     "data": {
      "text/plain": [
       "{u'awesome': [0.875, 0.125],\n",
       " u'bad': [0.024, 0.337],\n",
       " u'best': [0.167, 0.078],\n",
       " u'better': [0.491, 0.071],\n",
       " u'easy': [0.205, 0.253],\n",
       " u'excellent': [0.688, 0.0],\n",
       " u'get': [0.13, 0.058],\n",
       " u'good': [0.58, 0.007],\n",
       " u'great': [0.406, 0.045],\n",
       " u'little': [0.006, 0.222],\n",
       " u'love': [0.444, 0.147],\n",
       " u'made': [0.069, 0.0],\n",
       " u'nice': [0.3, 0.025],\n",
       " u'perfect': [0.346, 0.021],\n",
       " u'really': [0.438, 0.062],\n",
       " u'small': [0.086, 0.067],\n",
       " u'solid': [0.049, 0.014],\n",
       " u'use': [0.123, 0.129],\n",
       " u'well': [0.332, 0.05]}"
      ]
     },
     "execution_count": 93,
     "metadata": {},
     "output_type": "execute_result"
    }
   ],
   "source": [
    "my_dic = dict()\n",
    "for word in top20_words:\n",
    "    my_reg = r'[avr]\\/' + re.escape(word)\n",
    "    for key in sent_scores:\n",
    "        if re.match(my_reg, key):\n",
    "            # my_dic[word] = np.append(my_dic.get(word, np.zeros(1)), sent_scores[key])\n",
    "            # my_dic[word] = my_dic.get(word, np.zeros(2)) + sent_scores[key]\n",
    "            my_dic[word] = np.insert(my_dic.get(word, np.zeros((2, 2))), 2, sent_scores[key], axis=0)\n",
    "\n",
    "for k, v in my_dic.iteritems():\n",
    "    my_dic[k] = np.round(np.mean(np.delete(v, [0, 1], axis=0), axis=0), 3).tolist()\n",
    "\n",
    "my_dic"
   ]
  },
  {
   "cell_type": "code",
   "execution_count": 94,
   "metadata": {
    "collapsed": true
   },
   "outputs": [],
   "source": [
    "my_dic[\"works\"] = [0.094, 0.031]"
   ]
  },
  {
   "cell_type": "code",
   "execution_count": 156,
   "metadata": {},
   "outputs": [
    {
     "data": {
      "image/png": "[encoded data removed]",
      "text/plain": [
       "<matplotlib.figure.Figure at 0x105f3eeb8>"
      ]
     },
     "metadata": {},
     "output_type": "display_data"
    }
   ],
   "source": [
    "fig = plt.figure(figsize=(12,8))\n",
    "ax = fig.add_subplot(111)\n",
    "\n",
    "a = 0.7\n",
    "top20_specialwords_in_summary.plot(kind=\"barh\", ax=ax, alpha=a,\n",
    "                                  legend=False, edgecolor=\"w\")\n",
    "\n",
    "ax.set_frame_on(False)\n",
    "ax.set_title(\"Top Special Words and Sentiment Value\", fontsize=16, alpha=0.9)\n",
    "ax.title.set_position((0.5, 1.03))\n",
    "\n",
    "ax.xaxis.set_ticks_position(\"none\")\n",
    "ax.yaxis.set_ticks_position(\"none\")\n",
    "ax.set_xlabel(\"Word Frequencies\", fontsize=14, alpha=a)\n",
    "ax.set_xlim(0, 53000)\n",
    "\n",
    "col_labels = ['Pos','Neg']\n",
    "row_labels = []\n",
    "table_vals = []\n",
    "for k, v in my_dic.iteritems():\n",
    "    row_labels.append(k)\n",
    "    table_vals.append(v)\n",
    "    \n",
    "the_table = plt.table(cellText=table_vals,\n",
    "                  colWidths = [0.1]*2,\n",
    "                  rowLabels=row_labels,\n",
    "                  colLabels=col_labels,\n",
    "                  loc='center')\n",
    "the_table.set_fontsize(12)\n",
    "the_table.scale(1.25, 1.25)\n",
    "plt.text(24000,17,'Sentiment Score',size=12)\n",
    "\n",
    "yticks = top20_specialwords_in_summary.index.tolist()\n",
    "ax.set_yticklabels(yticks, fontsize=14, alpha=a)\n",
    "ax.yaxis.set_tick_params(pad=12)"
   ]
  },
  {
   "cell_type": "markdown",
   "metadata": {},
   "source": [
    "<p>We can expect that $16$ out of $20$ most common words have larger positive score than negitive score because over $85\\%$ of reviews belong to thumb-up class. Now it is time to start sentiment model training.</p>"
   ]
  },
  {
   "cell_type": "code",
   "execution_count": 112,
   "metadata": {},
   "outputs": [
    {
     "data": {
      "text/html": [
       "<div>\n",
       "<style>\n",
       "    .dataframe thead tr:only-child th {\n",
       "        text-align: right;\n",
       "    }\n",
       "\n",
       "    .dataframe thead th {\n",
       "        text-align: left;\n",
       "    }\n",
       "\n",
       "    .dataframe tbody tr th {\n",
       "        vertical-align: top;\n",
       "    }\n",
       "</style>\n",
       "<table border=\"1\" class=\"dataframe\">\n",
       "  <thead>\n",
       "    <tr style=\"text-align: right;\">\n",
       "      <th></th>\n",
       "      <th>cleanReview</th>\n",
       "      <th>cleanSummary</th>\n",
       "      <th>sentiment</th>\n",
       "    </tr>\n",
       "  </thead>\n",
       "  <tbody>\n",
       "    <tr>\n",
       "      <th>0</th>\n",
       "      <td>came veru happy haved used already makes taking easy</td>\n",
       "      <td>good</td>\n",
       "      <td>1</td>\n",
       "    </tr>\n",
       "    <tr>\n",
       "      <th>1</th>\n",
       "      <td>using lost needed used prior know reliable decided sure enough good</td>\n",
       "      <td>well</td>\n",
       "      <td>1</td>\n",
       "    </tr>\n",
       "  </tbody>\n",
       "</table>\n",
       "</div>"
      ],
      "text/plain": [
       "                                                           cleanReview  \\\n",
       "0  came veru happy haved used already makes taking easy                  \n",
       "1  using lost needed used prior know reliable decided sure enough good   \n",
       "\n",
       "  cleanSummary  sentiment  \n",
       "0  good         1          \n",
       "1  well         1          "
      ]
     },
     "execution_count": 112,
     "metadata": {},
     "output_type": "execute_result"
    }
   ],
   "source": [
    "clean_data = review_data[[\"cleanReview_v2\", \"cleanSummary_v2\", \"sentiment\"]]\n",
    "clean_data = clean_data.rename(columns={\"cleanReview_v2\": 'cleanReview', \"cleanSummary_v2\": \"cleanSummary\"})\n",
    "clean_data.head(2)"
   ]
  },
  {
   "cell_type": "code",
   "execution_count": 113,
   "metadata": {},
   "outputs": [
    {
     "name": "stdout",
     "output_type": "stream",
     "text": [
      "198545 97792\n",
      "198545 97792\n"
     ]
    }
   ],
   "source": [
    "from sklearn.model_selection import train_test_split\n",
    "X_re_train, X_re_test, y_re_train, y_re_test = train_test_split(clean_data[\"cleanReview\"], clean_data[\"sentiment\"], \n",
    "                                                    test_size=0.33, random_state=42)\n",
    "\n",
    "print len(X_re_train), len(X_re_test)\n",
    "print len(y_re_train), len(y_re_test)"
   ]
  },
  {
   "cell_type": "markdown",
   "metadata": {},
   "source": [
    "<h3>2. Bags of Words</h3>\n",
    "<br>\n",
    "* build a dictionary from words to fixed integer ID $j$.\n",
    "* for each review $i$, count the number of occurrences of each word and store it in $X[i, j]$.\n",
    "* because I have already broken sentence structure, I will implement word vectorization with 1-gram and 2-grams in later pipeline model."
   ]
  },
  {
   "cell_type": "code",
   "execution_count": 114,
   "metadata": {},
   "outputs": [
    {
     "data": {
      "text/plain": [
       "(198545, 50417)"
      ]
     },
     "execution_count": 114,
     "metadata": {},
     "output_type": "execute_result"
    }
   ],
   "source": [
    "from sklearn.feature_extraction.text import CountVectorizer\n",
    "count_vect = CountVectorizer()\n",
    "X_re_train_count = count_vect.fit_transform(X_re_train)\n",
    "X_re_train_count.shape"
   ]
  },
  {
   "cell_type": "markdown",
   "metadata": {},
   "source": [
    "<p>We extract 50,417 words in 198.545 reviews, we can check what are the words in the vocabulary.</p>"
   ]
  },
  {
   "cell_type": "code",
   "execution_count": 115,
   "metadata": {},
   "outputs": [
    {
     "data": {
      "text/plain": [
       "[u'fawn',\n",
       " u'goathead',\n",
       " u'insolid',\n",
       " u'woods',\n",
       " u'clotted',\n",
       " u'spiders',\n",
       " u'hanging',\n",
       " u'movementshielded',\n",
       " u'comically',\n",
       " u'localized']"
      ]
     },
     "execution_count": 115,
     "metadata": {},
     "output_type": "execute_result"
    }
   ],
   "source": [
    "count_vect.vocabulary_.keys()[:10]"
   ]
  },
  {
   "cell_type": "code",
   "execution_count": 116,
   "metadata": {},
   "outputs": [
    {
     "data": {
      "text/plain": [
       "23912"
      ]
     },
     "execution_count": 116,
     "metadata": {},
     "output_type": "execute_result"
    }
   ],
   "source": [
    "count_vect.vocabulary_[\"lifing\"]"
   ]
  },
  {
   "cell_type": "markdown",
   "metadata": {},
   "source": [
    "<h3>3. TF-IDF</h3>\n",
    "<br>\n",
    "<p>Term frequency-inverse document frequency is a weight used to evaluate how important a word is to a document in a collection or corpus.</p>\n",
    "$$TF(t) = \\frac{\\mbox{(Number of times term t appears in a document)}}{\\mbox{(Total number of terms in the document)}}$$\n",
    "<br>\n",
    "$$IDF(t) = \\log(\\frac{\\mbox{Total number of documents}}{\\mbox{ Number of documents with term t in it}})$$\n",
    "<br>\n",
    "$$weight(t) = TF(t) * IDF(t) $$\n",
    "<p>IDF is more useful in topic-related classification. So I set `use_idf` to `False`."
   ]
  },
  {
   "cell_type": "code",
   "execution_count": 117,
   "metadata": {},
   "outputs": [
    {
     "data": {
      "text/plain": [
       "(198545, 50417)"
      ]
     },
     "execution_count": 117,
     "metadata": {},
     "output_type": "execute_result"
    }
   ],
   "source": [
    "from sklearn.feature_extraction.text import TfidfTransformer\n",
    "tfidf_transformer = TfidfTransformer(use_idf=False)\n",
    "X_train_tfidf = tfidf_transformer.fit_transform(X_re_train_count)\n",
    "X_train_tfidf.shape"
   ]
  },
  {
   "cell_type": "markdown",
   "metadata": {},
   "source": [
    "<h3>4. Naive Bayes Classifier</h3>\n",
    "<br>\n",
    "<p>Naive Bayes is probably one of the most elegant machine learning algorithms out there that is of practical use. It proves to be quite robust to irrelevant features (all features must be independent of each other). It learns fast and predicts equally so. Meanwhile it does not require lots of storage.</p>\n",
    "<p>The main reason why Naive Bayes is so robust is that it is not so much interested in the real probabilities, but only in the information which class is more likely to.</p>\n",
    "$$C_{best}= argmax_{c \\in \\mathcal{C}} ( \\log P(C=c) + \\sum_kP(F_k|C=c)$$\n",
    "<p>C represents Class, F represents Features.</p> \n",
    "\n",
    "<p>The Naive Bayes classifiers reside in sklean package. </p>"
   ]
  },
  {
   "cell_type": "markdown",
   "metadata": {},
   "source": [
    "* __GaussianNB__: this assumes the features to be normally distributed. \n",
    "* __MultinomialNB__: this assumes the features to be occurrence counts. \n",
    "* __BernoulliNB__: this is similar to MultinomialNB, but more suited when using binary word occurrences.\n",
    "<p>As we will mainly look at the word occurrences, for our purpose, MultinomialNB is best suited.</p>"
   ]
  },
  {
   "cell_type": "code",
   "execution_count": 118,
   "metadata": {},
   "outputs": [
    {
     "name": "stdout",
     "output_type": "stream",
     "text": [
      "Wall time: 114 ms\n"
     ]
    }
   ],
   "source": [
    "%%time\n",
    "from sklearn.naive_bayes import MultinomialNB\n",
    "clf_nb = MultinomialNB().fit(X_train_tfidf, y_re_train)"
   ]
  },
  {
   "cell_type": "code",
   "execution_count": 119,
   "metadata": {},
   "outputs": [
    {
     "data": {
      "text/html": [
       "<div>\n",
       "<style>\n",
       "    .dataframe thead tr:only-child th {\n",
       "        text-align: right;\n",
       "    }\n",
       "\n",
       "    .dataframe thead th {\n",
       "        text-align: left;\n",
       "    }\n",
       "\n",
       "    .dataframe tbody tr th {\n",
       "        vertical-align: top;\n",
       "    }\n",
       "</style>\n",
       "<table border=\"1\" class=\"dataframe\">\n",
       "  <thead>\n",
       "    <tr style=\"text-align: right;\">\n",
       "      <th></th>\n",
       "      <th>cleanReview</th>\n",
       "      <th>cleanSummary</th>\n",
       "      <th>sentiment</th>\n",
       "    </tr>\n",
       "  </thead>\n",
       "  <tbody>\n",
       "    <tr>\n",
       "      <th>0</th>\n",
       "      <td>came veru happy haved used already makes taking easy</td>\n",
       "      <td>good</td>\n",
       "      <td>1</td>\n",
       "    </tr>\n",
       "    <tr>\n",
       "      <th>1</th>\n",
       "      <td>using lost needed used prior know reliable decided sure enough good</td>\n",
       "      <td>well</td>\n",
       "      <td>1</td>\n",
       "    </tr>\n",
       "    <tr>\n",
       "      <th>2</th>\n",
       "      <td>like okay butt handy pushing back already need</td>\n",
       "      <td></td>\n",
       "      <td>1</td>\n",
       "    </tr>\n",
       "    <tr>\n",
       "      <th>3</th>\n",
       "      <td>works better find actually think better regular hold</td>\n",
       "      <td></td>\n",
       "      <td>1</td>\n",
       "    </tr>\n",
       "    <tr>\n",
       "      <th>4</th>\n",
       "      <td>purchased thinking maybe need special easily pop plates regular get plates really make</td>\n",
       "      <td>ok regular</td>\n",
       "      <td>1</td>\n",
       "    </tr>\n",
       "  </tbody>\n",
       "</table>\n",
       "</div>"
      ],
      "text/plain": [
       "                                                                              cleanReview  \\\n",
       "0  came veru happy haved used already makes taking easy                                     \n",
       "1  using lost needed used prior know reliable decided sure enough good                      \n",
       "2  like okay butt handy pushing back already need                                           \n",
       "3  works better find actually think better regular hold                                     \n",
       "4  purchased thinking maybe need special easily pop plates regular get plates really make   \n",
       "\n",
       "  cleanSummary  sentiment  \n",
       "0  good         1          \n",
       "1  well         1          \n",
       "2               1          \n",
       "3               1          \n",
       "4  ok regular   1          "
      ]
     },
     "execution_count": 119,
     "metadata": {},
     "output_type": "execute_result"
    }
   ],
   "source": [
    "first_5 = clean_data.head(5)\n",
    "first_5  # There left some blanks in cleanSummary field after cleaning process, I will deal with it later."
   ]
  },
  {
   "cell_type": "code",
   "execution_count": 120,
   "metadata": {},
   "outputs": [
    {
     "name": "stdout",
     "output_type": "stream",
     "text": [
      "1 vs 1\n",
      "1 vs 1\n",
      "1 vs 1\n",
      "1 vs 1\n",
      "1 vs 1\n"
     ]
    }
   ],
   "source": [
    "# test on a small set\n",
    "first_5_counts = count_vect.transform(first_5[\"cleanReview\"])\n",
    "first_5_tfidf = tfidf_transformer.transform(first_5_counts)\n",
    "predicted = clf_nb.predict(first_5_tfidf)\n",
    "for original, pred in zip(first_5[\"sentiment\"], predicted):\n",
    "    print str(original) + \" vs \" + str(pred)"
   ]
  },
  {
   "cell_type": "markdown",
   "metadata": {},
   "source": [
    "<h3>5. Building a Pipeline</h3>\n",
    "<br>\n",
    "<p>In order to make the vectorize $\\Rightarrow$ transformer $\\Rightarrow$ classifier easier to work with, sklean provides a Pipeline class that behaves like a compound classifier.</p>"
   ]
  },
  {
   "cell_type": "code",
   "execution_count": 121,
   "metadata": {},
   "outputs": [
    {
     "name": "stdout",
     "output_type": "stream",
     "text": [
      "Wall time: 33.1 s\n"
     ]
    }
   ],
   "source": [
    "%%time\n",
    "from sklearn.pipeline import Pipeline\n",
    "review_nb_clf = Pipeline([(\"vect\", CountVectorizer(ngram_range=(1,2))),\n",
    "                          (\"tfidf\", TfidfTransformer(use_idf=False)), \n",
    "                          (\"clf\", MultinomialNB(alpha=0.01))])\n",
    "review_nb_clf = review_nb_clf.fit(X_re_train, y_re_train)"
   ]
  },
  {
   "cell_type": "markdown",
   "metadata": {},
   "source": [
    "<h3>6. Evaluation on Test Set</h3>"
   ]
  },
  {
   "cell_type": "code",
   "execution_count": 122,
   "metadata": {},
   "outputs": [
    {
     "data": {
      "text/plain": [
       "0.85931364528795806"
      ]
     },
     "execution_count": 122,
     "metadata": {},
     "output_type": "execute_result"
    }
   ],
   "source": [
    "predicted = review_nb_clf.predict(X_re_test)\n",
    "np.mean(predicted == y_re_test)"
   ]
  },
  {
   "cell_type": "code",
   "execution_count": 123,
   "metadata": {},
   "outputs": [
    {
     "data": {
      "text/plain": [
       " 1    0.854262\n",
       " 0    0.081326\n",
       "-1    0.064412\n",
       "Name: sentiment, dtype: float64"
      ]
     },
     "execution_count": 123,
     "metadata": {},
     "output_type": "execute_result"
    }
   ],
   "source": [
    "# It is a highly skewed distribution\n",
    "y_re_test.value_counts(normalize=True)"
   ]
  },
  {
   "cell_type": "markdown",
   "metadata": {},
   "source": [
    "<p>At the first glance, $86\\%$ is a good accurancy rate. But we are dealing with skewed classes in this classification problem. Accurancy might not be the best metric for determining the quality of the model. Even we always predict the review as thumb-up, it is correct $85\\%$ of the time. Fortunately, precision and recall can help us out.</p>\n",
    "* __Precision__: how many of the data records, which got classified as $C1$, actually are $C1$.\n",
    "* __Recall__: the percentage of correctly classified $C1$ based on the overall number of $C1$ in data set."
   ]
  },
  {
   "cell_type": "code",
   "execution_count": 124,
   "metadata": {},
   "outputs": [
    {
     "data": {
      "text/plain": [
       "array([[  512,    83,  5704],\n",
       "       [   84,   120,  7749],\n",
       "       [   53,    85, 83402]])"
      ]
     },
     "execution_count": 124,
     "metadata": {},
     "output_type": "execute_result"
    }
   ],
   "source": [
    "from sklearn import metrics\n",
    "metrics.confusion_matrix(y_re_test, predicted)"
   ]
  },
  {
   "cell_type": "code",
   "execution_count": 125,
   "metadata": {},
   "outputs": [
    {
     "name": "stdout",
     "output_type": "stream",
     "text": [
      "             precision    recall  f1-score   support\n",
      "\n",
      " thumb-down       0.79      0.08      0.15      6299\n",
      "    neutral       0.42      0.02      0.03      7953\n",
      "   thumb-up       0.86      1.00      0.92     83540\n",
      "\n",
      "avg / total       0.82      0.86      0.80     97792\n",
      "\n"
     ]
    }
   ],
   "source": [
    "target_names = [\"thumb-down\", \"neutral\", \"thumb-up\"]\n",
    "print metrics.classification_report(y_re_test, predicted, target_names=target_names)"
   ]
  },
  {
   "cell_type": "markdown",
   "metadata": {},
   "source": [
    "<p>It is not surprising that thumb-up class has good score in all aspects because it is predominant class in this skewed data set. For thumb-down class, $77\\%$ classfied thumb-down are actually thumb-down. However, among all records in this class, only $8\\%$ of them are correctly picked up. When predicting neutral class, this model is completely useless due to bad score on both precision and recall.</p>"
   ]
  },
  {
   "cell_type": "markdown",
   "metadata": {},
   "source": [
    "<h3>7. Parameter Tuning Using Grid Search</h3>\n",
    "<br>\n",
    "<p>We can try to improve the model performance by tweaking the parameters of various components of the chain. Sklearn provides the method to run an exhaustive search of the best parameters on a grid of possible values.</p>"
   ]
  },
  {
   "cell_type": "code",
   "execution_count": 126,
   "metadata": {},
   "outputs": [
    {
     "data": {
      "text/plain": [
       "0.85714573522375281"
      ]
     },
     "execution_count": 126,
     "metadata": {},
     "output_type": "execute_result"
    }
   ],
   "source": [
    "from sklearn.model_selection import GridSearchCV\n",
    "# It is __ before the parameter name\n",
    "parameters = {\"vect__ngram_range\": [(1, 1), (1, 3)], \n",
    "              \"tfidf__use_idf\": (True, False), \n",
    "              \"clf__alpha\": (1e-1, 1e-3)}\n",
    "\n",
    "gs_nb_clf = GridSearchCV(review_nb_clf, parameters, n_jobs=-1)\n",
    "\n",
    "gs_nb_clf = gs_nb_clf.fit(X_re_train, y_re_train)\n",
    "\n",
    "gs_nb_clf.best_score_"
   ]
  },
  {
   "cell_type": "code",
   "execution_count": 127,
   "metadata": {},
   "outputs": [
    {
     "name": "stdout",
     "output_type": "stream",
     "text": [
      "clf__alpha: 0.001\n",
      "tfidf__use_idf: False\n",
      "vect__ngram_range: (1, 3)\n"
     ]
    }
   ],
   "source": [
    "for param_name in sorted(parameters.keys()):\n",
    "    print \"%s: %r\" % (param_name, gs_nb_clf.best_params_[param_name])"
   ]
  },
  {
   "cell_type": "code",
   "execution_count": 128,
   "metadata": {
    "collapsed": true
   },
   "outputs": [],
   "source": [
    "cv_clf = Pipeline([(\"vect\", CountVectorizer(ngram_range=(1,3))),\n",
    "                          (\"tfidf\", TfidfTransformer(use_idf=False)), \n",
    "                          (\"clf\", MultinomialNB(alpha=0.001))])\n",
    "cv_clf = cv_clf.fit(X_re_train, y_re_train)"
   ]
  },
  {
   "cell_type": "code",
   "execution_count": 69,
   "metadata": {},
   "outputs": [
    {
     "name": "stdout",
     "output_type": "stream",
     "text": [
      "             precision    recall  f1-score   support\n",
      "\n",
      " thumb-down       0.69      0.09      0.16      6299\n",
      "    neutral       0.31      0.02      0.04      7953\n",
      "   thumb-up       0.86      0.99      0.92     83540\n",
      "\n",
      "avg / total       0.81      0.86      0.80     97792\n",
      "\n"
     ]
    }
   ],
   "source": [
    "cv_predicted = cv_clf.predict(X_re_test)\n",
    "print metrics.classification_report(y_re_test, cv_predicted, target_names=target_names)"
   ]
  },
  {
   "cell_type": "markdown",
   "metadata": {},
   "source": [
    "<h3>8. SVM vs. Naive Bayes, Summary vs. Review</h3>"
   ]
  },
  {
   "cell_type": "code",
   "execution_count": 134,
   "metadata": {},
   "outputs": [
    {
     "data": {
      "text/html": [
       "<div>\n",
       "<style>\n",
       "    .dataframe thead tr:only-child th {\n",
       "        text-align: right;\n",
       "    }\n",
       "\n",
       "    .dataframe thead th {\n",
       "        text-align: left;\n",
       "    }\n",
       "\n",
       "    .dataframe tbody tr th {\n",
       "        vertical-align: top;\n",
       "    }\n",
       "</style>\n",
       "<table border=\"1\" class=\"dataframe\">\n",
       "  <thead>\n",
       "    <tr style=\"text-align: right;\">\n",
       "      <th></th>\n",
       "      <th>cleanReview</th>\n",
       "      <th>cleanSummary</th>\n",
       "      <th>sentiment</th>\n",
       "    </tr>\n",
       "  </thead>\n",
       "  <tbody>\n",
       "    <tr>\n",
       "      <th>0</th>\n",
       "      <td>came veru happy haved used already makes taking easy</td>\n",
       "      <td>good</td>\n",
       "      <td>1</td>\n",
       "    </tr>\n",
       "    <tr>\n",
       "      <th>1</th>\n",
       "      <td>using lost needed used prior know reliable decided sure enough good</td>\n",
       "      <td>well</td>\n",
       "      <td>1</td>\n",
       "    </tr>\n",
       "    <tr>\n",
       "      <th>4</th>\n",
       "      <td>purchased thinking maybe need special easily pop plates regular get plates really make</td>\n",
       "      <td>ok regular</td>\n",
       "      <td>1</td>\n",
       "    </tr>\n",
       "  </tbody>\n",
       "</table>\n",
       "</div>"
      ],
      "text/plain": [
       "                                                                              cleanReview  \\\n",
       "0  came veru happy haved used already makes taking easy                                     \n",
       "1  using lost needed used prior know reliable decided sure enough good                      \n",
       "4  purchased thinking maybe need special easily pop plates regular get plates really make   \n",
       "\n",
       "  cleanSummary  sentiment  \n",
       "0  good         1          \n",
       "1  well         1          \n",
       "4  ok regular   1          "
      ]
     },
     "execution_count": 134,
     "metadata": {},
     "output_type": "execute_result"
    }
   ],
   "source": [
    "# After cleaning, there are some summaries is empty\n",
    "clean_data = clean_data.replace(\"\", np.nan)\n",
    "clean_data = clean_data.dropna()\n",
    "clean_data.head(3)"
   ]
  },
  {
   "cell_type": "code",
   "execution_count": 135,
   "metadata": {},
   "outputs": [
    {
     "name": "stdout",
     "output_type": "stream",
     "text": [
      "161053 79326\n",
      "161053 79326\n"
     ]
    }
   ],
   "source": [
    "from sklearn.model_selection import train_test_split\n",
    "X_sum_train, X_sum_test, y_sum_train, y_sum_test = train_test_split(clean_data[\"cleanSummary\"], clean_data[\"sentiment\"], \n",
    "                                                    test_size=0.33, random_state=42)\n",
    "\n",
    "print len(X_sum_train), len(X_sum_test)\n",
    "print len(y_sum_train), len(y_sum_test)"
   ]
  },
  {
   "cell_type": "code",
   "execution_count": 136,
   "metadata": {},
   "outputs": [
    {
     "name": "stdout",
     "output_type": "stream",
     "text": [
      "Wall time: 1.64 s\n"
     ]
    }
   ],
   "source": [
    "%%time\n",
    "from sklearn.linear_model import SGDClassifier\n",
    "review_svm_clf = Pipeline([(\"vect\", CountVectorizer()),\n",
    "                           (\"tfidf\", TfidfTransformer()), \n",
    "                           (\"clf\", SGDClassifier(loss='hinge', penalty='l2', alpha=1e-3, n_iter=5, random_state=42))])\n",
    "_ = review_svm_clf.fit(X_sum_train, y_sum_train)"
   ]
  },
  {
   "cell_type": "code",
   "execution_count": 138,
   "metadata": {},
   "outputs": [
    {
     "data": {
      "text/plain": [
       "0.86336131911353153"
      ]
     },
     "execution_count": 138,
     "metadata": {},
     "output_type": "execute_result"
    }
   ],
   "source": [
    "svm_predicted = review_svm_clf.predict(X_sum_test)\n",
    "np.mean(svm_predicted == y_sum_test)"
   ]
  },
  {
   "cell_type": "code",
   "execution_count": 139,
   "metadata": {},
   "outputs": [
    {
     "data": {
      "text/plain": [
       "array([[  125,    19,  4691],\n",
       "       [   43,   239,  5962],\n",
       "       [   19,   105, 68123]])"
      ]
     },
     "execution_count": 139,
     "metadata": {},
     "output_type": "execute_result"
    }
   ],
   "source": [
    "metrics.confusion_matrix(y_sum_test, svm_predicted)"
   ]
  },
  {
   "cell_type": "code",
   "execution_count": 140,
   "metadata": {},
   "outputs": [
    {
     "name": "stdout",
     "output_type": "stream",
     "text": [
      "Wall time: 2.5 s\n"
     ]
    }
   ],
   "source": [
    "%%time\n",
    "# So far it is the best model\n",
    "summary_nb_clf = Pipeline([(\"vect\", CountVectorizer(ngram_range=(1,3), max_features=2000)),\n",
    "                          (\"tfidf\", TfidfTransformer(use_idf=False)), \n",
    "                          (\"clf\", MultinomialNB(alpha=0.01))])\n",
    "summary_nb_clf = summary_nb_clf.fit(X_sum_train, y_sum_train)"
   ]
  },
  {
   "cell_type": "code",
   "execution_count": 141,
   "metadata": {},
   "outputs": [
    {
     "data": {
      "text/plain": [
       "0.8718705090386506"
      ]
     },
     "execution_count": 141,
     "metadata": {},
     "output_type": "execute_result"
    }
   ],
   "source": [
    "sum_nb_predicted = summary_nb_clf.predict(X_sum_test)\n",
    "np.mean(sum_nb_predicted == y_sum_test)"
   ]
  },
  {
   "cell_type": "code",
   "execution_count": 142,
   "metadata": {},
   "outputs": [
    {
     "name": "stdout",
     "output_type": "stream",
     "text": [
      "             precision    recall  f1-score   support\n",
      "\n",
      " thumb-down       0.62      0.20      0.30      4835\n",
      "    neutral       0.57      0.07      0.13      6244\n",
      "   thumb-up       0.88      0.99      0.93     68247\n",
      "\n",
      "avg / total       0.84      0.87      0.83     79326\n",
      "\n"
     ]
    }
   ],
   "source": [
    "print metrics.classification_report(y_sum_test, sum_nb_predicted, target_names=target_names)"
   ]
  },
  {
   "cell_type": "code",
   "execution_count": 143,
   "metadata": {},
   "outputs": [
    {
     "data": {
      "text/plain": [
       "0.87220356031865287"
      ]
     },
     "execution_count": 143,
     "metadata": {},
     "output_type": "execute_result"
    }
   ],
   "source": [
    "parameters = {\"vect__ngram_range\": [(1, 1), (1, 2)], \n",
    "              \"tfidf__use_idf\": (True, False), \n",
    "              \"clf__alpha\": (1e-1, 1e-4)}\n",
    "\n",
    "gs_nb_sum_clf = GridSearchCV(summary_nb_clf, parameters, n_jobs=-1)\n",
    "\n",
    "gs_nb_sum_clf = gs_nb_sum_clf.fit(X_sum_train, y_sum_train)\n",
    "\n",
    "gs_nb_sum_clf.best_score_"
   ]
  },
  {
   "cell_type": "code",
   "execution_count": 144,
   "metadata": {},
   "outputs": [
    {
     "name": "stdout",
     "output_type": "stream",
     "text": [
      "clf__alpha: 0.0001\n",
      "tfidf__use_idf: False\n",
      "vect__ngram_range: (1, 2)\n"
     ]
    }
   ],
   "source": [
    "for param_name in sorted(parameters.keys()):\n",
    "    print \"%s: %r\" % (param_name, gs_nb_sum_clf.best_params_[param_name])"
   ]
  },
  {
   "cell_type": "code",
   "execution_count": 145,
   "metadata": {
    "collapsed": true
   },
   "outputs": [],
   "source": [
    "summary_nb_cv_clf = Pipeline([(\"vect\", CountVectorizer(ngram_range=(1,2))),\n",
    "                            (\"tfidf\", TfidfTransformer(use_idf=False)), \n",
    "                            (\"clf\", MultinomialNB(alpha=0.0001))])\n",
    "_ = summary_nb_cv_clf.fit(X_sum_train, y_sum_train)"
   ]
  },
  {
   "cell_type": "code",
   "execution_count": 147,
   "metadata": {},
   "outputs": [
    {
     "data": {
      "text/plain": [
       "0.86699190681491567"
      ]
     },
     "execution_count": 147,
     "metadata": {},
     "output_type": "execute_result"
    }
   ],
   "source": [
    "sum_nb_cv_predicted = summary_nb_cv_clf.predict(X_sum_test)\n",
    "np.mean(sum_nb_cv_predicted == y_sum_test)"
   ]
  },
  {
   "cell_type": "code",
   "execution_count": 148,
   "metadata": {},
   "outputs": [
    {
     "data": {
      "text/plain": [
       "array([[ 1192,   254,  3389],\n",
       "       [  423,   670,  5151],\n",
       "       [  563,   771, 66913]])"
      ]
     },
     "execution_count": 148,
     "metadata": {},
     "output_type": "execute_result"
    }
   ],
   "source": [
    "metrics.confusion_matrix(y_sum_test, sum_nb_cv_predicted)"
   ]
  },
  {
   "cell_type": "code",
   "execution_count": 149,
   "metadata": {},
   "outputs": [
    {
     "name": "stdout",
     "output_type": "stream",
     "text": [
      "             precision    recall  f1-score   support\n",
      "\n",
      " thumb-down       0.55      0.25      0.34      4835\n",
      "    neutral       0.40      0.11      0.17      6244\n",
      "   thumb-up       0.89      0.98      0.93     68247\n",
      "\n",
      "avg / total       0.83      0.87      0.84     79326\n",
      "\n"
     ]
    }
   ],
   "source": [
    "print metrics.classification_report(y_sum_test, sum_nb_cv_predicted, target_names=target_names)"
   ]
  },
  {
   "cell_type": "markdown",
   "metadata": {},
   "source": [
    "<p>This is still not a perfect model. However it improved a little bit on predicting two minor classes as compared to the first model. In my future work, </p>\n",
    "1. I will try to fix skewness issue by oversampling minority classes with SMOTE.\n",
    "2. mash up the sentiment score with words in summary to improve the metrics of model. \n",
    "3. learn a model to filter thumb-up reviews out first, then train another model just for seperating thumb-down and neutral classes."
   ]
  },
  {
   "cell_type": "code",
   "execution_count": null,
   "metadata": {
    "collapsed": true
   },
   "outputs": [],
   "source": []
  }
 ],
 "metadata": {
  "kernelspec": {
   "display_name": "Python 2",
   "language": "python",
   "name": "python2"
  },
  "language_info": {
   "codemirror_mode": {
    "name": "ipython",
    "version": 2
   },
   "file_extension": ".py",
   "mimetype": "text/x-python",
   "name": "python",
   "nbconvert_exporter": "python",
   "pygments_lexer": "ipython2",
   "version": "2.7.11"
  }
 },
 "nbformat": 4,
 "nbformat_minor": 1
}
